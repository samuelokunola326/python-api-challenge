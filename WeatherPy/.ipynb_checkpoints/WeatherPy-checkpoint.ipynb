{
 "cells": [
  {
   "cell_type": "markdown",
   "metadata": {},
   "source": [
    "# WeatherPy\n",
    "----\n",
    "\n",
    "#### Note\n",
    "* Instructions have been included for each segment. You do not have to follow them exactly, but they are included to help you think through the steps."
   ]
  },
  {
   "cell_type": "code",
   "execution_count": 5,
   "metadata": {},
   "outputs": [
    {
     "name": "stdout",
     "output_type": "stream",
     "text": [
      "Collecting citipy\n",
      "  Downloading citipy-0.0.5.tar.gz (557 kB)\n",
      "Collecting kdtree>=0.12\n",
      "  Downloading kdtree-0.16-py2.py3-none-any.whl (7.7 kB)\n",
      "Building wheels for collected packages: citipy\n",
      "  Building wheel for citipy (setup.py): started\n",
      "  Building wheel for citipy (setup.py): finished with status 'done'\n",
      "  Created wheel for citipy: filename=citipy-0.0.5-py3-none-any.whl size=559707 sha256=3a4d34abd2115666d35385fd9a39515af46920b6a5a96630a4bf29bddbdfcf5d\n",
      "  Stored in directory: c:\\users\\samue\\appdata\\local\\pip\\cache\\wheels\\6d\\df\\5e\\ad8eb9cc5ee7f4ba76865167c09f9a7edff405c669111d8353\n",
      "Successfully built citipy\n",
      "Installing collected packages: kdtree, citipy\n",
      "Successfully installed citipy-0.0.5 kdtree-0.16\n"
     ]
    }
   ],
   "source": [
    "!pip install citipy"
   ]
  },
  {
   "cell_type": "code",
   "execution_count": 7,
   "metadata": {},
   "outputs": [
    {
     "name": "stdout",
     "output_type": "stream",
     "text": [
      "Name: kdtree\n",
      "Version: 0.16\n",
      "Summary: A Python implemntation of a kd-tree\n",
      "Home-page: https://github.com/stefankoegl/kdtree\n",
      "Author: Stefan Kögl\n",
      "Author-email: stefan@skoegl.net\n",
      "License: ISC license\n",
      "Location: c:\\users\\samue\\miniconda3\\envs\\pythondata\\lib\\site-packages\n",
      "Requires: \n",
      "Required-by: citipy\n",
      "Note: you may need to restart the kernel to use updated packages.\n"
     ]
    }
   ],
   "source": [
    "pip show kdtree"
   ]
  },
  {
   "cell_type": "code",
   "execution_count": 62,
   "metadata": {
    "scrolled": true
   },
   "outputs": [],
   "source": [
    "#Dependencies\n",
    "\n",
    "import json\n",
    "import requests\n",
    "from citipy import citipy\n",
    "import kdtree\n",
    "import time\n",
    "import matplotlib.pyplot as plt\n",
    "import pandas as pd\n",
    "import scipy.stats as st\n",
    "import numpy as np\n",
    "from scipy.stats import linregress\n",
    "import datetime\n",
    "from config import api_key\n",
    "\n",
    "#output data\n",
    "output_file = 'output_data/cities.csv'\n"
   ]
  },
  {
   "cell_type": "code",
   "execution_count": 36,
   "metadata": {},
   "outputs": [
    {
     "name": "stdout",
     "output_type": "stream",
     "text": [
      "['weinan', 'tasiilaq', 'longyearbyen', 'taolanaro']\n"
     ]
    }
   ],
   "source": [
    "#Testing citipy functionality\n",
    "lats=[(34.57, 109.75), (70.45, -39.90), (174.82, 9.45), (-64.20, 67.02)]\n",
    "# longs=[]\n",
    "\n",
    "city_names =[]\n",
    "for i , j in lats:\n",
    "#     print(i, j)\n",
    "    city = citipy.nearest_city(i,j).city_name\n",
    "    city_names.append(city)\n",
    "\n",
    "\n",
    "print(city_names)\n",
    "    "
   ]
  },
  {
   "cell_type": "code",
   "execution_count": 9,
   "metadata": {},
   "outputs": [
    {
     "name": "stdout",
     "output_type": "stream",
     "text": [
      "607\n"
     ]
    }
   ],
   "source": [
    "#Generating city list\n",
    "\n",
    "#General information\n",
    "#latitude is 90 degrees north and south\n",
    "#longitude is 180 degrees east and west \n",
    "\n",
    "#using numpy to generate random evenly distributed number sets between (-90,90) and (-180,180) \n",
    "#using 1200 size data because if coordinates are too close will generate duplicates\n",
    "lat = list(np.random.uniform(low=-90,high=90, size=1500))\n",
    "long = list(np.random.uniform(low=-180,high=180, size=1500))\n",
    "\n",
    "#zipping together and transforming to list as zip output is not iterable\n",
    "city_loc = zip(lat, long)\n",
    "city_loc = list(city_loc)\n",
    "\n",
    "#Create empty list to hold list of cities\n",
    "cities = []\n",
    "\n",
    "#looping through zipped list of tuples that that will generate city name\n",
    "for i, j in city_loc:\n",
    "    city = citipy.nearest_city(i, j).city_name\n",
    "    \n",
    "    if city not in cities:\n",
    "        cities.append(city)\n",
    "\n",
    "\n",
    "\n",
    "#Confirming the number of cities generated\n",
    "print(len(cities))\n",
    "\n",
    "\n",
    "\n"
   ]
  },
  {
   "cell_type": "code",
   "execution_count": 84,
   "metadata": {
    "scrolled": true
   },
   "outputs": [
    {
     "name": "stdout",
     "output_type": "stream",
     "text": [
      "http://api.openweathermap.org/data/2.5/weather?appid=2bb07b5b4cb41ed42f006f21f0e71510&units=imperial&q=\n"
     ]
    },
    {
     "data": {
      "text/plain": [
       "{'coord': {'lon': 53.47, 'lat': 54.48},\n",
       " 'weather': [{'id': 804,\n",
       "   'main': 'Clouds',\n",
       "   'description': 'overcast clouds',\n",
       "   'icon': '04d'}],\n",
       " 'base': 'stations',\n",
       " 'main': {'temp': 56.17,\n",
       "  'feels_like': 46.29,\n",
       "  'temp_min': 56.17,\n",
       "  'temp_max': 56.17,\n",
       "  'pressure': 1009,\n",
       "  'humidity': 73,\n",
       "  'sea_level': 1009,\n",
       "  'grnd_level': 993},\n",
       " 'visibility': 10000,\n",
       " 'wind': {'speed': 16.6, 'deg': 306},\n",
       " 'clouds': {'all': 100},\n",
       " 'dt': 1600849188,\n",
       " 'sys': {'country': 'RU', 'sunrise': 1600827228, 'sunset': 1600870985},\n",
       " 'timezone': 18000,\n",
       " 'id': 515879,\n",
       " 'name': \"Oktyabr'skiy\",\n",
       " 'cod': 200}"
      ]
     },
     "execution_count": 84,
     "metadata": {},
     "output_type": "execute_result"
    }
   ],
   "source": [
    "#creating api/config information\n",
    "url = 'http://api.openweathermap.org/data/2.5/weather?'\n",
    "# url = 'http://api.openweathermap.org/data/2.5/find?'\n",
    "\n",
    "#api.openweathermap.org/data/2.5/find?q=London&units=imperial\n",
    "\n",
    "#build query URL\n",
    "query_url = url+\"appid=\"+api_key+\"&units=imperial\"+\"&q=\"\n",
    "\n",
    "print(query_url)\n",
    "\n",
    "#testing pull from api\n",
    "response = requests.get(query_url + 'oktyabrskiy').json()\n",
    "response"
   ]
  },
  {
   "cell_type": "markdown",
   "metadata": {},
   "source": [
    "## Generate Cities List"
   ]
  },
  {
   "cell_type": "code",
   "execution_count": 17,
   "metadata": {
    "scrolled": true
   },
   "outputs": [
    {
     "name": "stdout",
     "output_type": "stream",
     "text": [
      "607\n",
      "['taolanaro', 'khatanga', 'rikitea', 'narsaq', 'saryshagan', 'butaritari', 'bambous virieux', 'avarua', 'barrow', 'hobart', 'miles city', 'busselton', 'taoudenni', 'nagua', 'tuktoyaktuk', 'derzhavinsk', 'jamestown', 'nicoya', 'pisco', 'oyama', 'clyde river', 'tsihombe', 'albany', 'rawson', 'punta arenas', 'nikolskoye', 'montepuez', 'port alfred', 'east london', 'hilo', 'ushuaia', 'acarau', 'chapais', 'umm lajj', 'lebu', 'esperance', 'lorengau', 'pangnirtung', 'bluff', 'dingle', 'yellowknife', 'grand gaube', 'sitka', 'lata', 'ushtobe', 'nacala', 'geraldton', 'qaanaaq', 'krasnorechenskiy', 'kapaa', 'belushya guba', 'saint-philippe', 'san cristobal', 'kodiak', 'minab', 'nizhneyansk', 'hostotipaquillo', 'waiuku', 'longlac', 'asau', 'atherton', 'severo-kurilsk', 'nemuro', 'mataura', 'ballina', 'thompson', 'dikson', 'jurm', 'kijang', 'cap malheureux', 'conceicao do araguaia', 'vaini', 'amos', 'melfi', 'awbari', 'slave lake', 'canico', 'acuna', 'okha', 'huazolotitlan', 'carnarvon', 'semme', 'ahipara', 'georgetown', 'haines junction', 'plymouth', 'waddan', 'tynda', 'altay', 'longyearbyen', 'atuona', 'khasan', 'chuy', 'fort nelson', 'aranos', 'touros', 'guhagar', 'ilulissat', 'te anau', 'hualmay', 'kaitangata', 'palmer', 'toliary', 'pikermion', 'attawapiskat', 'castro', 'vila franca do campo', 'sentyabrskiy', 'trincomalee', 'biltine', 'gorno-chuyskiy', 'hermanus', 'bonavista', 'cape town', 'rio gallegos', 'znamenskoye', 'poum', 'port lincoln', 'lagos', 'mitu', 'clarence town', 'yar-sale', 'isabela', 'illoqqortoormiut', 'bethel', 'aksarayskiy', 'dickinson', 'alanya', 'khorixas', 'polson', 'margate', 'nguiu', 'dudinka', 'salalah', 'hastings', 'mar del plata', 'upernavik', 'naze', 'bahia blanca', 'klyuchi', 'saskylakh', 'lompoc', 'songjianghe', 'tezu', 'sovetskiy', 'mizpe ramon', 'airai', 'new norfolk', 'coihaique', 'nanortalik', 'oksfjord', 'guanica', 'talnakh', 'kamariotissa', 'ancud', 'athabasca', 'podgornoye', 'ruatoria', 'port macquarie', 'plouzane', 'kahului', 'cherskiy', 'nabire', 'nishihara', 'muroto', 'moyale', 'henties bay', 'krasnoselkup', 'nizwa', 'rovaniemi', 'gornopravdinsk', 'torbay', 'maposeni', 'tasiilaq', 'norman wells', 'guder', 'bredasdorp', 'louisbourg', 'cabo san lucas', 'buariki', 'lumsden', 'san joaquin', 'kavarna', 'loiza', 'luderitz', 'petropavlovsk-kamchatskiy', 'ozgon', 'hasaki', 'karamay', 'port elizabeth', 'cordoba', 'kavieng', 'meyungs', 'nayoro', 'jalu', 'karratha', 'kamloops', 'provideniya', 'belyy yar', 'kothi', 'maragogi', 'ribeira grande', 'innisfail', 'ciudad bolivar', 'dukat', 'rawannawi', 'bianzhuang', 'brasileia', 'the pas', 'nome', 'yulara', 'amderma', 'ondjiva', 'bandarbeyla', 'saint-georges', 'souillac', 'pirgos', 'puerto ayora', 'saldanha', 'padang', 'coahuayana', 'grand river south east', 'venice', 'san ignacio', 'marv dasht', 'saquarema', 'sioux lookout', 'vao', 'itaituba', 'jasper', 'ponta delgada', 'pevek', 'lavrentiya', 'bangonay', 'botou', 'dwarka', 'wattegama', 'grosseto', 'luena', 'zheleznodorozhnyy', 'umuarama', 'ubauro', 'barcelos', 'kruisfontein', 'chokurdakh', 'chernyshevskiy', 'skibbereen', 'snezhnogorsk', 'coulihaut', 'wellsford', 'faya', 'meulaboh', 'genhe', 'axim', 'carlyle', 'avdon', 'balimo', 'iquitos', 'yambio', 'old road', 'barentsburg', 'dingalan', 'guiyang', 'grand-santi', 'cidreira', 'nushki', 'tamiahua', 'sao filipe', 'saint-augustin', 'hithadhoo', 'brae', 'evensk', 'tautira', 'natal', 'tlahualilo', 'olinda', 'anadyr', 'daru', 'boca do acre', 'pasni', 'mountain home', 'tlacotepec', 'gubkinskiy', 'ribera', 'alice springs', 'shimoda', 'tiksi', 'akyab', 'faanui', 'lasa', 'katunino', 'hilton head island', 'yubari', 'kaduy', 'batemans bay', 'isangel', 'biak', 'bechem', 'russell', 'whitehorse', 'pitkyaranta', 'goure', 'darnah', 'chifeng', 'kyabe', 'elko', 'ormara', 'bengkulu', 'banmo', 'flinders', 'madison', 'shelburne', 'fortuna', 'qaqortoq', 'wana', 'namatanai', 'aktash', 'mys shmidta', 'ambunti', 'aleksandrov gay', 'mayo', 'tahta', 'borogontsy', 'kenora', 'oranjemund', 'filingue', 'makakilo city', 'obzor', 'riacho de santana', 'chicama', 'zuidhorn', 'nisia floresta', 'jiwani', 'ust-kamchatsk', 'laguna', 'utiroa', 'lakes entrance', 'dunedin', 'alyangula', 'muros', 'coquimbo', 'roald', 'christchurch', 'kilindoni', 'berlevag', 'sao joao da barra', 'baykalsk', 'mackay', 'wajima', 'dhidhdhoo', 'tabou', 'santa cruz de la palma', 'skagastrond', 'praya', 'kysyl-syr', 'great yarmouth', 'alofi', 'sabirabad', 'coronado', 'puerto maldonado', 'neuquen', 'hashtrud', 'la plata', 'oktyabrskiy', 'kendari', 'witu', 'sisimiut', 'bolungarvik', 'mayumba', 'lively', 'the valley', 'parana', 'ixtapa', 'imbituba', 'castanos', 'saint george', 'hovd', 'macau', 'guerrero negro', 'sorvag', 'samarai', 'mwingi', 'huambo', 'escanaba', 'swan hill', 'viedma', 'westport', 'south bend', 'zoersel', 'biu', 'namibe', 'doha', 'olavarria', 'beruwala', 'redlands', 'merauke', 'blairmore', 'paamiut', 'tapa', 'katsuura', 'palabuhanratu', 'nagram', 'beringovskiy', 'banda aceh', 'seoul', 'palau', 'kurduvadi', 'la ronge', 'nema', 'tecoanapa', 'sovkhoznyy', 'grindavik', 'jabiru', 'fairbanks', 'yarada', 'owensboro', 'nieuw amsterdam', 'isla mujeres', 'bereznik', 'haikou', 'matamoros', 'jinchengjiang', 'north bend', 'nhamunda', 'iqaluit', 'vaitupu', 'dibai', 'luba', 'gwadar', 'batagay-alyta', 'santa pola', 'inderborskiy', 'plettenberg bay', 'kemijarvi', 'rathkeale', 'yining', 'hachinohe', 'broome', 'bogashevo', 'rawah', 'petropavlovka', 'leh', 'egvekinot', 'lisburn', 'itarema', 'madingou', 'ponta do sol', 'alpena', 'uruzgan', 'mandera', 'vila velha', 'richards bay', 'kaeo', 'horsham', 'aklavik', 'arraial do cabo', 'villa bruzual', 'nuqui', 'srednekolymsk', 'houlton', 'omboue', 'betioky', 'colares', 'tabas', 'ucluelet', 'verkhnyaya inta', 'zemio', 'snyder', 'winnemucca', 'olafsvik', 'bababe', 'chulman', 'codrington', 'hami', 'bograd', 'mazatlan', 'gao', 'atbasar', 'komsomolskiy', 'road town', 'konstantinovka', 'oakdale', 'cockburn town', 'manicore', 'vardo', 'taltal', 'nuuk', 'gondanglegi', 'aasiaat', 'los llanos de aridane', 'kailua', 'baijiantan', 'samusu', 'xian', 'labuhan', 'grivenskaya', 'kampong chhnang', 'riaba', 'szigetvar', 'acapulco', 'constitucion', 'kavaratti', 'hervey bay', 'fairlie', 'melton mowbray', 'santa isabel do rio negro', 'talcahuano', 'bereda', 'mahebourg', 'salinopolis', 'honiara', 'disna', 'la asuncion', 'roma', 'lalmohan', 'honningsvag', 'thunder bay', 'cabo rojo', 'parfino', 'angleton', 'bathsheba', 'summerville', 'beyneu', 'mingshui', 'nouadhibou', 'atar', 'mahadday weyne', 'pascagoula', 'angoram', 'shubarshi', 'talaja', 'kerrville', 'bur gabo', 'abonnema', 'peterhead', 'kargat', 'lagoa', 'san jose', 'san andres', 'pangody', 'havre-saint-pierre', 'laje', 'karachi', 'sorong', 'borgarnes', 'satitoa', 'belaya gora', 'rapid valley', 'palekh', 'buraydah', 'umm durman', 'valparaiso', 'sao jose da coroa grande', 'ilorin', 'shache', 'sarangani', 'lahij', 'osiao', 'san nicolas', 'port moresby', 'tuzha', 'charyshskoye', 'sur', 'jackson', 'masjed-e soleyman', 'cuamba', 'sataua', 'koster', 'killam', 'madera', 'kaliua', 'burica', 'mwinilunga', 'vanimo', 'kibuye', 'general roca', 'tartagal', 'abha', 'cheremshan', 'tumannyy', 'vuktyl', 'santa ines', 'lyngseidet', 'vestmannaeyjar', 'machiques', 'boa vista', 'nyurba', 'itoman', 'jaicos', 'san patricio', 'monywa', 'ushumun', 'dawson', 'dharchula', 'ongandjera', 'halalo', 'desaguadero', 'yerbogachen', 'altus', 'sapa', 'adrar', 'sinnamary', 'wau', 'juba', 'khonuu', 'victoria', 'lac du bonnet']\n"
     ]
    }
   ],
   "source": [
    "print(len(cities))\n",
    "print(cities)"
   ]
  },
  {
   "cell_type": "markdown",
   "metadata": {},
   "source": [
    "### Perform API Calls\n",
    "* Perform a weather check on each city using a series of successive API calls.\n",
    "* Include a print log of each city as it'sbeing processed (with the city number and city name).\n"
   ]
  },
  {
   "cell_type": "code",
   "execution_count": 85,
   "metadata": {},
   "outputs": [
    {
     "name": "stdout",
     "output_type": "stream",
     "text": [
      "Beginning Data Retrieval\n",
      "-----------------------------\n",
      "City not found. skipping ...\n",
      "Processing record 1 of set 1 | khatanga\n",
      "Processing record 2 of set 1 | rikitea\n",
      "Processing record 3 of set 1 | narsaq\n",
      "City not found. skipping ...\n",
      "Processing record 4 of set 1 | butaritari\n",
      "Processing record 5 of set 1 | bambous virieux\n",
      "Processing record 6 of set 1 | avarua\n",
      "Processing record 7 of set 1 | barrow\n",
      "Processing record 8 of set 1 | hobart\n",
      "Processing record 9 of set 1 | miles city\n",
      "Processing record 10 of set 1 | busselton\n",
      "Processing record 11 of set 1 | taoudenni\n",
      "Processing record 12 of set 1 | nagua\n",
      "Processing record 13 of set 1 | tuktoyaktuk\n",
      "Processing record 14 of set 1 | derzhavinsk\n",
      "Processing record 15 of set 1 | jamestown\n",
      "Processing record 16 of set 1 | nicoya\n",
      "Processing record 17 of set 1 | pisco\n",
      "Processing record 18 of set 1 | oyama\n",
      "Processing record 19 of set 1 | clyde river\n",
      "City not found. skipping ...\n",
      "Processing record 20 of set 1 | albany\n",
      "Processing record 21 of set 1 | rawson\n",
      "Processing record 22 of set 1 | punta arenas\n",
      "Processing record 23 of set 1 | nikolskoye\n",
      "Processing record 24 of set 1 | montepuez\n",
      "Processing record 25 of set 1 | port alfred\n",
      "Processing record 26 of set 1 | east london\n",
      "Processing record 27 of set 1 | hilo\n",
      "Processing record 28 of set 1 | ushuaia\n",
      "Processing record 29 of set 1 | acarau\n",
      "Processing record 30 of set 1 | chapais\n",
      "Processing record 31 of set 1 | umm lajj\n",
      "Processing record 32 of set 1 | lebu\n",
      "Processing record 33 of set 1 | esperance\n",
      "Processing record 34 of set 1 | lorengau\n",
      "Processing record 35 of set 1 | pangnirtung\n",
      "Processing record 36 of set 1 | bluff\n",
      "Processing record 37 of set 1 | dingle\n",
      "Processing record 38 of set 1 | yellowknife\n",
      "Processing record 39 of set 1 | grand gaube\n",
      "Processing record 40 of set 1 | sitka\n",
      "Processing record 41 of set 1 | lata\n",
      "Processing record 42 of set 1 | ushtobe\n",
      "Processing record 43 of set 1 | nacala\n",
      "Processing record 44 of set 1 | geraldton\n",
      "Processing record 45 of set 1 | qaanaaq\n",
      "Processing record 46 of set 1 | krasnorechenskiy\n",
      "Processing record 47 of set 1 | kapaa\n",
      "City not found. skipping ...\n",
      "Processing record 48 of set 1 | saint-philippe\n",
      "Processing record 49 of set 1 | san cristobal\n",
      "Processing record 1 of set 2 | kodiak\n",
      "Processing record 2 of set 2 | minab\n",
      "City not found. skipping ...\n",
      "Processing record 3 of set 2 | hostotipaquillo\n",
      "Processing record 4 of set 2 | waiuku\n",
      "City not found. skipping ...\n",
      "Processing record 5 of set 2 | asau\n",
      "Processing record 6 of set 2 | atherton\n",
      "Processing record 7 of set 2 | severo-kurilsk\n",
      "Processing record 8 of set 2 | nemuro\n",
      "Processing record 9 of set 2 | mataura\n",
      "Processing record 10 of set 2 | ballina\n",
      "Processing record 11 of set 2 | thompson\n",
      "Processing record 12 of set 2 | dikson\n",
      "Processing record 13 of set 2 | jurm\n",
      "Processing record 14 of set 2 | kijang\n",
      "Processing record 15 of set 2 | cap malheureux\n",
      "Processing record 16 of set 2 | conceicao do araguaia\n",
      "Processing record 17 of set 2 | vaini\n",
      "Processing record 18 of set 2 | amos\n",
      "Processing record 19 of set 2 | melfi\n",
      "Processing record 20 of set 2 | awbari\n",
      "Processing record 21 of set 2 | slave lake\n",
      "Processing record 22 of set 2 | canico\n",
      "City not found. skipping ...\n",
      "Processing record 23 of set 2 | okha\n",
      "City not found. skipping ...\n",
      "Processing record 24 of set 2 | carnarvon\n",
      "Processing record 25 of set 2 | semme\n",
      "Processing record 26 of set 2 | ahipara\n",
      "Processing record 27 of set 2 | georgetown\n",
      "Processing record 28 of set 2 | haines junction\n",
      "Processing record 29 of set 2 | plymouth\n",
      "Processing record 30 of set 2 | waddan\n",
      "Processing record 31 of set 2 | tynda\n",
      "Processing record 32 of set 2 | altay\n",
      "Processing record 33 of set 2 | longyearbyen\n",
      "Processing record 34 of set 2 | atuona\n",
      "Processing record 35 of set 2 | khasan\n",
      "Processing record 36 of set 2 | chuy\n",
      "Processing record 37 of set 2 | fort nelson\n",
      "Processing record 38 of set 2 | aranos\n",
      "Processing record 39 of set 2 | touros\n",
      "Processing record 40 of set 2 | guhagar\n",
      "Processing record 41 of set 2 | ilulissat\n",
      "Processing record 42 of set 2 | te anau\n",
      "Processing record 43 of set 2 | hualmay\n",
      "Processing record 44 of set 2 | kaitangata\n",
      "Processing record 45 of set 2 | palmer\n",
      "City not found. skipping ...\n",
      "City not found. skipping ...\n",
      "City not found. skipping ...\n",
      "Processing record 46 of set 2 | castro\n",
      "Processing record 47 of set 2 | vila franca do campo\n",
      "City not found. skipping ...\n",
      "Processing record 48 of set 2 | trincomalee\n",
      "Processing record 49 of set 2 | biltine\n",
      "City not found. skipping ...\n",
      "Processing record 1 of set 3 | hermanus\n",
      "Processing record 2 of set 3 | bonavista\n",
      "Processing record 3 of set 3 | cape town\n",
      "Processing record 4 of set 3 | rio gallegos\n",
      "Processing record 5 of set 3 | znamenskoye\n",
      "Processing record 6 of set 3 | poum\n",
      "Processing record 7 of set 3 | port lincoln\n",
      "Processing record 8 of set 3 | lagos\n",
      "Processing record 9 of set 3 | mitu\n",
      "Processing record 10 of set 3 | clarence town\n",
      "Processing record 11 of set 3 | yar-sale\n",
      "Processing record 12 of set 3 | isabela\n",
      "City not found. skipping ...\n",
      "Processing record 13 of set 3 | bethel\n",
      "Processing record 14 of set 3 | aksarayskiy\n",
      "Processing record 15 of set 3 | dickinson\n",
      "Processing record 16 of set 3 | alanya\n",
      "Processing record 17 of set 3 | khorixas\n",
      "Processing record 18 of set 3 | polson\n",
      "Processing record 19 of set 3 | margate\n",
      "City not found. skipping ...\n",
      "Processing record 20 of set 3 | dudinka\n",
      "Processing record 21 of set 3 | salalah\n",
      "Processing record 22 of set 3 | hastings\n",
      "Processing record 23 of set 3 | mar del plata\n",
      "Processing record 24 of set 3 | upernavik\n",
      "Processing record 25 of set 3 | naze\n",
      "Processing record 26 of set 3 | bahia blanca\n",
      "Processing record 27 of set 3 | klyuchi\n",
      "Processing record 28 of set 3 | saskylakh\n",
      "Processing record 29 of set 3 | lompoc\n",
      "Processing record 30 of set 3 | songjianghe\n",
      "Processing record 31 of set 3 | tezu\n",
      "Processing record 32 of set 3 | sovetskiy\n",
      "City not found. skipping ...\n",
      "Processing record 33 of set 3 | airai\n",
      "Processing record 34 of set 3 | new norfolk\n",
      "Processing record 35 of set 3 | coihaique\n",
      "Processing record 36 of set 3 | nanortalik\n",
      "Processing record 37 of set 3 | oksfjord\n",
      "Processing record 38 of set 3 | guanica\n",
      "Processing record 39 of set 3 | talnakh\n",
      "Processing record 40 of set 3 | kamariotissa\n",
      "Processing record 41 of set 3 | ancud\n",
      "Processing record 42 of set 3 | athabasca\n",
      "Processing record 43 of set 3 | podgornoye\n",
      "City not found. skipping ...\n",
      "Processing record 44 of set 3 | port macquarie\n",
      "Processing record 45 of set 3 | plouzane\n",
      "Processing record 46 of set 3 | kahului\n",
      "Processing record 47 of set 3 | cherskiy\n",
      "Processing record 48 of set 3 | nabire\n",
      "Processing record 49 of set 3 | nishihara\n",
      "Processing record 1 of set 4 | muroto\n",
      "Processing record 2 of set 4 | moyale\n",
      "Processing record 3 of set 4 | henties bay\n",
      "Processing record 4 of set 4 | krasnoselkup\n",
      "Processing record 5 of set 4 | nizwa\n",
      "Processing record 6 of set 4 | rovaniemi\n",
      "Processing record 7 of set 4 | gornopravdinsk\n",
      "Processing record 8 of set 4 | torbay\n",
      "Processing record 9 of set 4 | maposeni\n",
      "Processing record 10 of set 4 | tasiilaq\n",
      "Processing record 11 of set 4 | norman wells\n",
      "Processing record 12 of set 4 | guder\n",
      "Processing record 13 of set 4 | bredasdorp\n",
      "City not found. skipping ...\n",
      "Processing record 14 of set 4 | cabo san lucas\n",
      "City not found. skipping ...\n",
      "Processing record 15 of set 4 | lumsden\n",
      "Processing record 16 of set 4 | san joaquin\n",
      "Processing record 17 of set 4 | kavarna\n",
      "Processing record 18 of set 4 | loiza\n",
      "Processing record 19 of set 4 | luderitz\n",
      "Processing record 20 of set 4 | petropavlovsk-kamchatskiy\n",
      "City not found. skipping ...\n",
      "Processing record 21 of set 4 | hasaki\n",
      "City not found. skipping ...\n",
      "Processing record 22 of set 4 | port elizabeth\n",
      "Processing record 23 of set 4 | cordoba\n",
      "Processing record 24 of set 4 | kavieng\n",
      "City not found. skipping ...\n",
      "Processing record 25 of set 4 | nayoro\n",
      "Processing record 26 of set 4 | jalu\n",
      "Processing record 27 of set 4 | karratha\n",
      "Processing record 28 of set 4 | kamloops\n",
      "Processing record 29 of set 4 | provideniya\n",
      "Processing record 30 of set 4 | belyy yar\n",
      "Processing record 31 of set 4 | kothi\n",
      "Processing record 32 of set 4 | maragogi\n",
      "Processing record 33 of set 4 | ribeira grande\n",
      "Processing record 34 of set 4 | innisfail\n",
      "Processing record 35 of set 4 | ciudad bolivar\n",
      "Processing record 36 of set 4 | dukat\n",
      "City not found. skipping ...\n"
     ]
    },
    {
     "name": "stdout",
     "output_type": "stream",
     "text": [
      "Processing record 37 of set 4 | bianzhuang\n",
      "Processing record 38 of set 4 | brasileia\n",
      "Processing record 39 of set 4 | the pas\n",
      "Processing record 40 of set 4 | nome\n",
      "Processing record 41 of set 4 | yulara\n",
      "City not found. skipping ...\n",
      "Processing record 42 of set 4 | ondjiva\n",
      "Processing record 43 of set 4 | bandarbeyla\n",
      "Processing record 44 of set 4 | saint-georges\n",
      "Processing record 45 of set 4 | souillac\n",
      "Processing record 46 of set 4 | pirgos\n",
      "Processing record 47 of set 4 | puerto ayora\n",
      "Processing record 48 of set 4 | saldanha\n",
      "Processing record 49 of set 4 | padang\n",
      "Processing record 1 of set 5 | coahuayana\n",
      "City not found. skipping ...\n",
      "Processing record 2 of set 5 | venice\n",
      "Processing record 3 of set 5 | san ignacio\n",
      "City not found. skipping ...\n",
      "Processing record 4 of set 5 | saquarema\n",
      "Processing record 5 of set 5 | sioux lookout\n",
      "Processing record 6 of set 5 | vao\n",
      "Processing record 7 of set 5 | itaituba\n",
      "Processing record 8 of set 5 | jasper\n",
      "Processing record 9 of set 5 | ponta delgada\n",
      "Processing record 10 of set 5 | pevek\n",
      "Processing record 11 of set 5 | lavrentiya\n",
      "Processing record 12 of set 5 | bangonay\n",
      "Processing record 13 of set 5 | botou\n",
      "Processing record 14 of set 5 | dwarka\n",
      "Processing record 15 of set 5 | wattegama\n",
      "Processing record 16 of set 5 | grosseto\n",
      "Processing record 17 of set 5 | luena\n",
      "Processing record 18 of set 5 | zheleznodorozhnyy\n",
      "Processing record 19 of set 5 | umuarama\n",
      "Processing record 20 of set 5 | ubauro\n",
      "Processing record 21 of set 5 | barcelos\n",
      "Processing record 22 of set 5 | kruisfontein\n",
      "Processing record 23 of set 5 | chokurdakh\n",
      "Processing record 24 of set 5 | chernyshevskiy\n",
      "Processing record 25 of set 5 | skibbereen\n",
      "Processing record 26 of set 5 | snezhnogorsk\n",
      "City not found. skipping ...\n",
      "Processing record 27 of set 5 | wellsford\n",
      "Processing record 28 of set 5 | faya\n",
      "Processing record 29 of set 5 | meulaboh\n",
      "Processing record 30 of set 5 | genhe\n",
      "Processing record 31 of set 5 | axim\n",
      "Processing record 32 of set 5 | carlyle\n",
      "Processing record 33 of set 5 | avdon\n",
      "City not found. skipping ...\n",
      "Processing record 34 of set 5 | iquitos\n",
      "Processing record 35 of set 5 | yambio\n",
      "City not found. skipping ...\n",
      "City not found. skipping ...\n",
      "Processing record 36 of set 5 | dingalan\n",
      "Processing record 37 of set 5 | guiyang\n",
      "Processing record 38 of set 5 | grand-santi\n",
      "Processing record 39 of set 5 | cidreira\n",
      "Processing record 40 of set 5 | nushki\n",
      "Processing record 41 of set 5 | tamiahua\n",
      "Processing record 42 of set 5 | sao filipe\n",
      "Processing record 43 of set 5 | saint-augustin\n",
      "Processing record 44 of set 5 | hithadhoo\n",
      "Processing record 45 of set 5 | brae\n",
      "Processing record 46 of set 5 | evensk\n",
      "Processing record 47 of set 5 | tautira\n",
      "Processing record 48 of set 5 | natal\n",
      "City not found. skipping ...\n",
      "Processing record 49 of set 5 | olinda\n",
      "Processing record 1 of set 6 | anadyr\n",
      "Processing record 2 of set 6 | daru\n",
      "Processing record 3 of set 6 | boca do acre\n",
      "Processing record 4 of set 6 | pasni\n",
      "Processing record 5 of set 6 | mountain home\n",
      "Processing record 6 of set 6 | tlacotepec\n",
      "Processing record 7 of set 6 | gubkinskiy\n",
      "Processing record 8 of set 6 | ribera\n",
      "Processing record 9 of set 6 | alice springs\n",
      "Processing record 10 of set 6 | shimoda\n",
      "Processing record 11 of set 6 | tiksi\n",
      "Processing record 12 of set 6 | akyab\n",
      "Processing record 13 of set 6 | faanui\n",
      "Processing record 14 of set 6 | lasa\n",
      "Processing record 15 of set 6 | katunino\n",
      "Processing record 16 of set 6 | hilton head island\n",
      "Processing record 17 of set 6 | yubari\n",
      "Processing record 18 of set 6 | kaduy\n",
      "Processing record 19 of set 6 | batemans bay\n",
      "Processing record 20 of set 6 | isangel\n",
      "Processing record 21 of set 6 | biak\n",
      "Processing record 22 of set 6 | bechem\n",
      "Processing record 23 of set 6 | russell\n",
      "Processing record 24 of set 6 | whitehorse\n",
      "Processing record 25 of set 6 | pitkyaranta\n",
      "Processing record 26 of set 6 | goure\n",
      "Processing record 27 of set 6 | darnah\n",
      "Processing record 28 of set 6 | chifeng\n",
      "Processing record 29 of set 6 | kyabe\n",
      "Processing record 30 of set 6 | elko\n",
      "Processing record 31 of set 6 | ormara\n",
      "Processing record 32 of set 6 | bengkulu\n",
      "City not found. skipping ...\n",
      "Processing record 33 of set 6 | flinders\n",
      "Processing record 34 of set 6 | madison\n",
      "Processing record 35 of set 6 | shelburne\n",
      "Processing record 36 of set 6 | fortuna\n",
      "Processing record 37 of set 6 | qaqortoq\n",
      "Processing record 38 of set 6 | wana\n",
      "Processing record 39 of set 6 | namatanai\n",
      "Processing record 40 of set 6 | aktash\n",
      "City not found. skipping ...\n",
      "Processing record 41 of set 6 | ambunti\n",
      "Processing record 42 of set 6 | aleksandrov gay\n",
      "Processing record 43 of set 6 | mayo\n",
      "Processing record 44 of set 6 | tahta\n",
      "Processing record 45 of set 6 | borogontsy\n",
      "Processing record 46 of set 6 | kenora\n",
      "Processing record 47 of set 6 | oranjemund\n",
      "Processing record 48 of set 6 | filingue\n",
      "Processing record 49 of set 6 | makakilo city\n",
      "Processing record 1 of set 7 | obzor\n",
      "Processing record 2 of set 7 | riacho de santana\n",
      "Processing record 3 of set 7 | chicama\n",
      "Processing record 4 of set 7 | zuidhorn\n",
      "Processing record 5 of set 7 | nisia floresta\n",
      "Processing record 6 of set 7 | jiwani\n",
      "City not found. skipping ...\n",
      "Processing record 7 of set 7 | laguna\n",
      "City not found. skipping ...\n",
      "Processing record 8 of set 7 | lakes entrance\n",
      "Processing record 9 of set 7 | dunedin\n",
      "Processing record 10 of set 7 | alyangula\n",
      "Processing record 11 of set 7 | muros\n",
      "Processing record 12 of set 7 | coquimbo\n",
      "Processing record 13 of set 7 | roald\n",
      "Processing record 14 of set 7 | christchurch\n",
      "Processing record 15 of set 7 | kilindoni\n",
      "Processing record 16 of set 7 | berlevag\n",
      "Processing record 17 of set 7 | sao joao da barra\n",
      "Processing record 18 of set 7 | baykalsk\n",
      "Processing record 19 of set 7 | mackay\n",
      "Processing record 20 of set 7 | wajima\n",
      "Processing record 21 of set 7 | dhidhdhoo\n",
      "Processing record 22 of set 7 | tabou\n",
      "Processing record 23 of set 7 | santa cruz de la palma\n",
      "City not found. skipping ...\n",
      "Processing record 24 of set 7 | praya\n",
      "Processing record 25 of set 7 | kysyl-syr\n",
      "Processing record 26 of set 7 | great yarmouth\n",
      "Processing record 27 of set 7 | alofi\n",
      "Processing record 28 of set 7 | sabirabad\n",
      "Processing record 29 of set 7 | coronado\n",
      "Processing record 30 of set 7 | puerto maldonado\n",
      "Processing record 31 of set 7 | neuquen\n",
      "Processing record 32 of set 7 | hashtrud\n",
      "Processing record 33 of set 7 | la plata\n",
      "Processing record 34 of set 7 | oktyabrskiy\n",
      "Processing record 35 of set 7 | kendari\n",
      "Processing record 36 of set 7 | witu\n",
      "Processing record 37 of set 7 | sisimiut\n",
      "City not found. skipping ...\n",
      "Processing record 38 of set 7 | mayumba\n",
      "Processing record 39 of set 7 | lively\n",
      "Processing record 40 of set 7 | the valley\n",
      "Processing record 41 of set 7 | parana\n",
      "Processing record 42 of set 7 | ixtapa\n",
      "Processing record 43 of set 7 | imbituba\n",
      "Processing record 44 of set 7 | castanos\n",
      "Processing record 45 of set 7 | saint george\n",
      "Processing record 46 of set 7 | hovd\n",
      "Processing record 47 of set 7 | macau\n",
      "Processing record 48 of set 7 | guerrero negro\n",
      "City not found. skipping ...\n",
      "Processing record 49 of set 7 | samarai\n",
      "Processing record 1 of set 8 | mwingi\n",
      "Processing record 2 of set 8 | huambo\n",
      "Processing record 3 of set 8 | escanaba\n",
      "Processing record 4 of set 8 | swan hill\n",
      "Processing record 5 of set 8 | viedma\n",
      "Processing record 6 of set 8 | westport\n",
      "Processing record 7 of set 8 | south bend\n",
      "Processing record 8 of set 8 | zoersel\n",
      "Processing record 9 of set 8 | biu\n",
      "Processing record 10 of set 8 | namibe\n",
      "Processing record 11 of set 8 | doha\n",
      "Processing record 12 of set 8 | olavarria\n",
      "Processing record 13 of set 8 | beruwala\n",
      "Processing record 14 of set 8 | redlands\n",
      "Processing record 15 of set 8 | merauke\n",
      "Processing record 16 of set 8 | blairmore\n",
      "Processing record 17 of set 8 | paamiut\n",
      "Processing record 18 of set 8 | tapa\n",
      "Processing record 19 of set 8 | katsuura\n",
      "City not found. skipping ...\n",
      "Processing record 20 of set 8 | nagram\n",
      "Processing record 21 of set 8 | beringovskiy\n",
      "Processing record 22 of set 8 | banda aceh\n",
      "Processing record 23 of set 8 | seoul\n",
      "Processing record 24 of set 8 | palau\n",
      "Processing record 25 of set 8 | kurduvadi\n",
      "Processing record 26 of set 8 | la ronge\n",
      "Processing record 27 of set 8 | nema\n",
      "Processing record 28 of set 8 | tecoanapa\n",
      "Processing record 29 of set 8 | sovkhoznyy\n",
      "Processing record 30 of set 8 | grindavik\n",
      "City not found. skipping ...\n",
      "Processing record 31 of set 8 | fairbanks\n"
     ]
    },
    {
     "name": "stdout",
     "output_type": "stream",
     "text": [
      "Processing record 32 of set 8 | yarada\n",
      "Processing record 33 of set 8 | owensboro\n",
      "Processing record 34 of set 8 | nieuw amsterdam\n",
      "Processing record 35 of set 8 | isla mujeres\n",
      "Processing record 36 of set 8 | bereznik\n",
      "Processing record 37 of set 8 | haikou\n",
      "Processing record 38 of set 8 | matamoros\n",
      "City not found. skipping ...\n",
      "Processing record 39 of set 8 | north bend\n",
      "Processing record 40 of set 8 | nhamunda\n",
      "Processing record 41 of set 8 | iqaluit\n",
      "City not found. skipping ...\n",
      "Processing record 42 of set 8 | dibai\n",
      "Processing record 43 of set 8 | luba\n",
      "Processing record 44 of set 8 | gwadar\n",
      "Processing record 45 of set 8 | batagay-alyta\n",
      "Processing record 46 of set 8 | santa pola\n",
      "City not found. skipping ...\n",
      "Processing record 47 of set 8 | plettenberg bay\n",
      "Processing record 48 of set 8 | kemijarvi\n",
      "Processing record 49 of set 8 | rathkeale\n",
      "Processing record 1 of set 9 | yining\n",
      "Processing record 2 of set 9 | hachinohe\n",
      "Processing record 3 of set 9 | broome\n",
      "Processing record 4 of set 9 | bogashevo\n",
      "Processing record 5 of set 9 | rawah\n",
      "Processing record 6 of set 9 | petropavlovka\n",
      "Processing record 7 of set 9 | leh\n",
      "Processing record 8 of set 9 | egvekinot\n",
      "Processing record 9 of set 9 | lisburn\n",
      "Processing record 10 of set 9 | itarema\n",
      "Processing record 11 of set 9 | madingou\n",
      "Processing record 12 of set 9 | ponta do sol\n",
      "Processing record 13 of set 9 | alpena\n",
      "Processing record 14 of set 9 | uruzgan\n",
      "Processing record 15 of set 9 | mandera\n",
      "Processing record 16 of set 9 | vila velha\n",
      "Processing record 17 of set 9 | richards bay\n",
      "Processing record 18 of set 9 | kaeo\n",
      "Processing record 19 of set 9 | horsham\n",
      "Processing record 20 of set 9 | aklavik\n",
      "Processing record 21 of set 9 | arraial do cabo\n",
      "Processing record 22 of set 9 | villa bruzual\n",
      "Processing record 23 of set 9 | nuqui\n",
      "Processing record 24 of set 9 | srednekolymsk\n",
      "Processing record 25 of set 9 | houlton\n",
      "Processing record 26 of set 9 | omboue\n",
      "Processing record 27 of set 9 | betioky\n",
      "Processing record 28 of set 9 | colares\n",
      "Processing record 29 of set 9 | tabas\n",
      "Processing record 30 of set 9 | ucluelet\n",
      "Processing record 31 of set 9 | verkhnyaya inta\n",
      "Processing record 32 of set 9 | zemio\n",
      "Processing record 33 of set 9 | snyder\n",
      "Processing record 34 of set 9 | winnemucca\n",
      "Processing record 35 of set 9 | olafsvik\n",
      "City not found. skipping ...\n",
      "Processing record 36 of set 9 | chulman\n",
      "Processing record 37 of set 9 | codrington\n",
      "Processing record 38 of set 9 | hami\n",
      "Processing record 39 of set 9 | bograd\n",
      "Processing record 40 of set 9 | mazatlan\n",
      "Processing record 41 of set 9 | gao\n",
      "Processing record 42 of set 9 | atbasar\n",
      "Processing record 43 of set 9 | komsomolskiy\n",
      "Processing record 44 of set 9 | road town\n",
      "Processing record 45 of set 9 | konstantinovka\n",
      "Processing record 46 of set 9 | oakdale\n",
      "Processing record 47 of set 9 | cockburn town\n",
      "Processing record 48 of set 9 | manicore\n",
      "Processing record 49 of set 9 | vardo\n",
      "Processing record 1 of set 10 | taltal\n",
      "Processing record 2 of set 10 | nuuk\n",
      "Processing record 3 of set 10 | gondanglegi\n",
      "Processing record 4 of set 10 | aasiaat\n",
      "Processing record 5 of set 10 | los llanos de aridane\n",
      "Processing record 6 of set 10 | kailua\n",
      "Processing record 7 of set 10 | baijiantan\n",
      "City not found. skipping ...\n",
      "Processing record 8 of set 10 | xian\n",
      "Processing record 9 of set 10 | labuhan\n",
      "Processing record 10 of set 10 | grivenskaya\n",
      "Processing record 11 of set 10 | kampong chhnang\n",
      "City not found. skipping ...\n",
      "Processing record 12 of set 10 | szigetvar\n",
      "Processing record 13 of set 10 | acapulco\n",
      "Processing record 14 of set 10 | constitucion\n",
      "Processing record 15 of set 10 | kavaratti\n",
      "Processing record 16 of set 10 | hervey bay\n",
      "Processing record 17 of set 10 | fairlie\n",
      "Processing record 18 of set 10 | melton mowbray\n",
      "Processing record 19 of set 10 | santa isabel do rio negro\n",
      "Processing record 20 of set 10 | talcahuano\n",
      "Processing record 21 of set 10 | bereda\n",
      "Processing record 22 of set 10 | mahebourg\n",
      "Processing record 23 of set 10 | salinopolis\n",
      "Processing record 24 of set 10 | honiara\n",
      "Processing record 25 of set 10 | disna\n",
      "Processing record 26 of set 10 | la asuncion\n",
      "Processing record 27 of set 10 | roma\n",
      "Processing record 28 of set 10 | lalmohan\n",
      "Processing record 29 of set 10 | honningsvag\n",
      "Processing record 30 of set 10 | thunder bay\n",
      "Processing record 31 of set 10 | cabo rojo\n",
      "Processing record 32 of set 10 | parfino\n",
      "Processing record 33 of set 10 | angleton\n",
      "Processing record 34 of set 10 | bathsheba\n",
      "Processing record 35 of set 10 | summerville\n",
      "Processing record 36 of set 10 | beyneu\n",
      "Processing record 37 of set 10 | mingshui\n",
      "Processing record 38 of set 10 | nouadhibou\n",
      "Processing record 39 of set 10 | atar\n",
      "City not found. skipping ...\n",
      "Processing record 40 of set 10 | pascagoula\n",
      "Processing record 41 of set 10 | angoram\n",
      "Processing record 42 of set 10 | shubarshi\n",
      "Processing record 43 of set 10 | talaja\n",
      "Processing record 44 of set 10 | kerrville\n",
      "City not found. skipping ...\n",
      "Processing record 45 of set 10 | abonnema\n",
      "Processing record 46 of set 10 | peterhead\n",
      "Processing record 47 of set 10 | kargat\n",
      "Processing record 48 of set 10 | lagoa\n",
      "Processing record 49 of set 10 | san jose\n",
      "Processing record 1 of set 11 | san andres\n",
      "Processing record 2 of set 11 | pangody\n",
      "Processing record 3 of set 11 | havre-saint-pierre\n",
      "Processing record 4 of set 11 | laje\n",
      "Processing record 5 of set 11 | karachi\n",
      "Processing record 6 of set 11 | sorong\n",
      "Processing record 7 of set 11 | borgarnes\n",
      "City not found. skipping ...\n",
      "Processing record 8 of set 11 | belaya gora\n",
      "Processing record 9 of set 11 | rapid valley\n",
      "Processing record 10 of set 11 | palekh\n",
      "Processing record 11 of set 11 | buraydah\n",
      "City not found. skipping ...\n",
      "Processing record 12 of set 11 | valparaiso\n",
      "Processing record 13 of set 11 | sao jose da coroa grande\n",
      "Processing record 14 of set 11 | ilorin\n",
      "Processing record 15 of set 11 | shache\n",
      "Processing record 16 of set 11 | sarangani\n",
      "Processing record 17 of set 11 | lahij\n",
      "Processing record 18 of set 11 | osiao\n",
      "Processing record 19 of set 11 | san nicolas\n",
      "Processing record 20 of set 11 | port moresby\n",
      "Processing record 21 of set 11 | tuzha\n",
      "Processing record 22 of set 11 | charyshskoye\n",
      "Processing record 23 of set 11 | sur\n",
      "Processing record 24 of set 11 | jackson\n",
      "City not found. skipping ...\n",
      "Processing record 25 of set 11 | cuamba\n",
      "City not found. skipping ...\n",
      "Processing record 26 of set 11 | koster\n",
      "Processing record 27 of set 11 | killam\n",
      "Processing record 28 of set 11 | madera\n",
      "Processing record 29 of set 11 | kaliua\n",
      "City not found. skipping ...\n",
      "Processing record 30 of set 11 | mwinilunga\n",
      "Processing record 31 of set 11 | vanimo\n",
      "Processing record 32 of set 11 | kibuye\n",
      "Processing record 33 of set 11 | general roca\n",
      "Processing record 34 of set 11 | tartagal\n",
      "Processing record 35 of set 11 | abha\n",
      "Processing record 36 of set 11 | cheremshan\n",
      "City not found. skipping ...\n",
      "Processing record 37 of set 11 | vuktyl\n",
      "Processing record 38 of set 11 | santa ines\n",
      "Processing record 39 of set 11 | lyngseidet\n",
      "Processing record 40 of set 11 | vestmannaeyjar\n",
      "Processing record 41 of set 11 | machiques\n",
      "Processing record 42 of set 11 | boa vista\n",
      "Processing record 43 of set 11 | nyurba\n",
      "Processing record 44 of set 11 | itoman\n",
      "Processing record 45 of set 11 | jaicos\n",
      "Processing record 46 of set 11 | san patricio\n",
      "Processing record 47 of set 11 | monywa\n",
      "Processing record 48 of set 11 | ushumun\n",
      "Processing record 49 of set 11 | dawson\n",
      "Processing record 1 of set 12 | dharchula\n",
      "Processing record 2 of set 12 | ongandjera\n",
      "City not found. skipping ...\n",
      "Processing record 3 of set 12 | desaguadero\n",
      "Processing record 4 of set 12 | yerbogachen\n",
      "Processing record 5 of set 12 | altus\n",
      "Processing record 6 of set 12 | sapa\n",
      "Processing record 7 of set 12 | adrar\n",
      "Processing record 8 of set 12 | sinnamary\n",
      "Processing record 9 of set 12 | wau\n",
      "Processing record 10 of set 12 | juba\n",
      "City not found. skipping ...\n",
      "Processing record 11 of set 12 | victoria\n",
      "Processing record 12 of set 12 | lac du bonnet\n",
      "-----------------------------\n",
      "data retrieval complete\n"
     ]
    }
   ],
   "source": [
    "#Pulling data via API\n",
    "\n",
    "#creating empty list for variables returned from API\n",
    "lat = []\n",
    "temp = []\n",
    "humidity = []\n",
    "cloudiness = []\n",
    "wind_speed = []\n",
    "max_temp = []\n",
    "lng = []\n",
    "country = []\n",
    "date = []\n",
    "\n",
    "\n",
    "count = 0\n",
    "set_num = 1\n",
    "city_list2 =[]\n",
    "\n",
    "print('Beginning Data Retrieval')\n",
    "print('-----------------------------')\n",
    "\n",
    "for city in cities:\n",
    "    try:\n",
    "        response = requests.get(query_url + city).json()\n",
    "        lat.append(response['coord']['lat'])\n",
    "        lng.append(response['coord']['lon'])\n",
    "        temp.append(response['main']['temp'])\n",
    "        humidity.append(response['main']['humidity'])\n",
    "        cloudiness.append(response['clouds']['all'])\n",
    "        wind_speed.append(response['wind']['speed'])\n",
    "        max_temp.append(response['main']['temp_max'])\n",
    "        date.append(response['dt'])\n",
    "        country.append(response['sys']['country'])\n",
    "        \n",
    "        if count >= 49:\n",
    "            count = 1\n",
    "            set_num = set_num + 1\n",
    "            city_list2.append(city)\n",
    "            \n",
    "        else:\n",
    "            count = count + 1\n",
    "            city_list2.append(city)\n",
    "            \n",
    "        \n",
    "        print(f'Processing record {count} of set {set_num} | {city}')\n",
    "    except Exception:\n",
    "        print('City not found. skipping ...')\n",
    "\n",
    "print('-----------------------------')\n",
    "print('data retrieval complete')            \n",
    "\n"
   ]
  },
  {
   "cell_type": "markdown",
   "metadata": {},
   "source": [
    "### Convert Raw Data to DataFrame\n",
    "* Export the city data into a .csv.\n",
    "* Display the DataFrame"
   ]
  },
  {
   "cell_type": "code",
   "execution_count": 86,
   "metadata": {
    "scrolled": true
   },
   "outputs": [
    {
     "name": "stdout",
     "output_type": "stream",
     "text": [
      "(551, 9)\n"
     ]
    },
    {
     "data": {
      "text/html": [
       "<div>\n",
       "<style scoped>\n",
       "    .dataframe tbody tr th:only-of-type {\n",
       "        vertical-align: middle;\n",
       "    }\n",
       "\n",
       "    .dataframe tbody tr th {\n",
       "        vertical-align: top;\n",
       "    }\n",
       "\n",
       "    .dataframe thead th {\n",
       "        text-align: right;\n",
       "    }\n",
       "</style>\n",
       "<table border=\"1\" class=\"dataframe\">\n",
       "  <thead>\n",
       "    <tr style=\"text-align: right;\">\n",
       "      <th></th>\n",
       "      <th>City</th>\n",
       "      <th>Cloudiness</th>\n",
       "      <th>Country</th>\n",
       "      <th>Date</th>\n",
       "      <th>Humidity</th>\n",
       "      <th>Latitude</th>\n",
       "      <th>Longitude</th>\n",
       "      <th>Max Temp</th>\n",
       "      <th>Wind Speed</th>\n",
       "    </tr>\n",
       "  </thead>\n",
       "  <tbody>\n",
       "    <tr>\n",
       "      <th>0</th>\n",
       "      <td>khatanga</td>\n",
       "      <td>0</td>\n",
       "      <td>RU</td>\n",
       "      <td>1600849292</td>\n",
       "      <td>46</td>\n",
       "      <td>71.97</td>\n",
       "      <td>102.50</td>\n",
       "      <td>55.60</td>\n",
       "      <td>18.54</td>\n",
       "    </tr>\n",
       "    <tr>\n",
       "      <th>1</th>\n",
       "      <td>rikitea</td>\n",
       "      <td>10</td>\n",
       "      <td>PF</td>\n",
       "      <td>1600849293</td>\n",
       "      <td>75</td>\n",
       "      <td>-23.12</td>\n",
       "      <td>-134.97</td>\n",
       "      <td>72.39</td>\n",
       "      <td>16.37</td>\n",
       "    </tr>\n",
       "    <tr>\n",
       "      <th>2</th>\n",
       "      <td>narsaq</td>\n",
       "      <td>0</td>\n",
       "      <td>GL</td>\n",
       "      <td>1600849293</td>\n",
       "      <td>78</td>\n",
       "      <td>60.92</td>\n",
       "      <td>-46.05</td>\n",
       "      <td>32.00</td>\n",
       "      <td>10.29</td>\n",
       "    </tr>\n",
       "    <tr>\n",
       "      <th>3</th>\n",
       "      <td>butaritari</td>\n",
       "      <td>2</td>\n",
       "      <td>KI</td>\n",
       "      <td>1600849293</td>\n",
       "      <td>77</td>\n",
       "      <td>3.07</td>\n",
       "      <td>172.79</td>\n",
       "      <td>82.04</td>\n",
       "      <td>13.22</td>\n",
       "    </tr>\n",
       "    <tr>\n",
       "      <th>4</th>\n",
       "      <td>bambous virieux</td>\n",
       "      <td>40</td>\n",
       "      <td>MU</td>\n",
       "      <td>1600849293</td>\n",
       "      <td>61</td>\n",
       "      <td>-20.34</td>\n",
       "      <td>57.76</td>\n",
       "      <td>77.00</td>\n",
       "      <td>11.41</td>\n",
       "    </tr>\n",
       "  </tbody>\n",
       "</table>\n",
       "</div>"
      ],
      "text/plain": [
       "              City  Cloudiness Country        Date  Humidity  Latitude  \\\n",
       "0         khatanga           0      RU  1600849292        46     71.97   \n",
       "1          rikitea          10      PF  1600849293        75    -23.12   \n",
       "2           narsaq           0      GL  1600849293        78     60.92   \n",
       "3       butaritari           2      KI  1600849293        77      3.07   \n",
       "4  bambous virieux          40      MU  1600849293        61    -20.34   \n",
       "\n",
       "   Longitude  Max Temp  Wind Speed  \n",
       "0     102.50     55.60       18.54  \n",
       "1    -134.97     72.39       16.37  \n",
       "2     -46.05     32.00       10.29  \n",
       "3     172.79     82.04       13.22  \n",
       "4      57.76     77.00       11.41  "
      ]
     },
     "execution_count": 86,
     "metadata": {},
     "output_type": "execute_result"
    }
   ],
   "source": [
    "#creating dictionary with data pulled from api\n",
    "cities_dict={\"City\":city_list2,\n",
    "             \"Cloudiness\":cloudiness,\n",
    "             \"Country\":country,\n",
    "             \"Date\":date,\n",
    "             \"Humidity\":humidity,\n",
    "             \"Latitude\":lat,\n",
    "             \"Longitude\":lng,\n",
    "             \"Max Temp\":max_temp,\n",
    "             \"Wind Speed\":wind_speed}\n",
    "\n",
    "cities_df=pd.DataFrame(cities_dict)\n",
    "print(cities_df.shape)\n",
    "cities_df.head()"
   ]
  },
  {
   "cell_type": "code",
   "execution_count": 87,
   "metadata": {
    "scrolled": false
   },
   "outputs": [
    {
     "data": {
      "text/html": [
       "<div>\n",
       "<style scoped>\n",
       "    .dataframe tbody tr th:only-of-type {\n",
       "        vertical-align: middle;\n",
       "    }\n",
       "\n",
       "    .dataframe tbody tr th {\n",
       "        vertical-align: top;\n",
       "    }\n",
       "\n",
       "    .dataframe thead th {\n",
       "        text-align: right;\n",
       "    }\n",
       "</style>\n",
       "<table border=\"1\" class=\"dataframe\">\n",
       "  <thead>\n",
       "    <tr style=\"text-align: right;\">\n",
       "      <th></th>\n",
       "      <th>Latitude</th>\n",
       "      <th>Longitude</th>\n",
       "      <th>Max Temp</th>\n",
       "      <th>Humidity</th>\n",
       "      <th>Cloudiness</th>\n",
       "      <th>Wind Speed</th>\n",
       "      <th>Date</th>\n",
       "    </tr>\n",
       "  </thead>\n",
       "  <tbody>\n",
       "    <tr>\n",
       "      <th>mean</th>\n",
       "      <td>21.402541</td>\n",
       "      <td>13.160998</td>\n",
       "      <td>65.942577</td>\n",
       "      <td>70.346642</td>\n",
       "      <td>48.912886</td>\n",
       "      <td>8.131815</td>\n",
       "      <td>1.600849e+09</td>\n",
       "    </tr>\n",
       "    <tr>\n",
       "      <th>std</th>\n",
       "      <td>32.960886</td>\n",
       "      <td>90.760940</td>\n",
       "      <td>16.422732</td>\n",
       "      <td>21.352998</td>\n",
       "      <td>39.701931</td>\n",
       "      <td>5.556598</td>\n",
       "      <td>5.837156e+01</td>\n",
       "    </tr>\n",
       "    <tr>\n",
       "      <th>max</th>\n",
       "      <td>78.220000</td>\n",
       "      <td>179.320000</td>\n",
       "      <td>110.080000</td>\n",
       "      <td>100.000000</td>\n",
       "      <td>100.000000</td>\n",
       "      <td>31.470000</td>\n",
       "      <td>1.600849e+09</td>\n",
       "    </tr>\n",
       "    <tr>\n",
       "      <th>min</th>\n",
       "      <td>-54.800000</td>\n",
       "      <td>-179.170000</td>\n",
       "      <td>11.710000</td>\n",
       "      <td>7.000000</td>\n",
       "      <td>0.000000</td>\n",
       "      <td>0.400000</td>\n",
       "      <td>1.600849e+09</td>\n",
       "    </tr>\n",
       "    <tr>\n",
       "      <th>count</th>\n",
       "      <td>551.000000</td>\n",
       "      <td>551.000000</td>\n",
       "      <td>551.000000</td>\n",
       "      <td>551.000000</td>\n",
       "      <td>551.000000</td>\n",
       "      <td>551.000000</td>\n",
       "      <td>5.510000e+02</td>\n",
       "    </tr>\n",
       "    <tr>\n",
       "      <th>25th</th>\n",
       "      <td>-4.000000</td>\n",
       "      <td>-67.685000</td>\n",
       "      <td>53.010000</td>\n",
       "      <td>61.000000</td>\n",
       "      <td>2.500000</td>\n",
       "      <td>3.990000</td>\n",
       "      <td>1.600849e+09</td>\n",
       "    </tr>\n",
       "    <tr>\n",
       "      <th>50th</th>\n",
       "      <td>26.180000</td>\n",
       "      <td>17.940000</td>\n",
       "      <td>68.000000</td>\n",
       "      <td>76.000000</td>\n",
       "      <td>44.000000</td>\n",
       "      <td>6.930000</td>\n",
       "      <td>1.600849e+09</td>\n",
       "    </tr>\n",
       "    <tr>\n",
       "      <th>75th</th>\n",
       "      <td>49.265000</td>\n",
       "      <td>85.160000</td>\n",
       "      <td>78.800000</td>\n",
       "      <td>86.000000</td>\n",
       "      <td>90.000000</td>\n",
       "      <td>11.030000</td>\n",
       "      <td>1.600849e+09</td>\n",
       "    </tr>\n",
       "  </tbody>\n",
       "</table>\n",
       "</div>"
      ],
      "text/plain": [
       "         Latitude   Longitude    Max Temp    Humidity  Cloudiness  Wind Speed  \\\n",
       "mean    21.402541   13.160998   65.942577   70.346642   48.912886    8.131815   \n",
       "std     32.960886   90.760940   16.422732   21.352998   39.701931    5.556598   \n",
       "max     78.220000  179.320000  110.080000  100.000000  100.000000   31.470000   \n",
       "min    -54.800000 -179.170000   11.710000    7.000000    0.000000    0.400000   \n",
       "count  551.000000  551.000000  551.000000  551.000000  551.000000  551.000000   \n",
       "25th    -4.000000  -67.685000   53.010000   61.000000    2.500000    3.990000   \n",
       "50th    26.180000   17.940000   68.000000   76.000000   44.000000    6.930000   \n",
       "75th    49.265000   85.160000   78.800000   86.000000   90.000000   11.030000   \n",
       "\n",
       "               Date  \n",
       "mean   1.600849e+09  \n",
       "std    5.837156e+01  \n",
       "max    1.600849e+09  \n",
       "min    1.600849e+09  \n",
       "count  5.510000e+02  \n",
       "25th   1.600849e+09  \n",
       "50th   1.600849e+09  \n",
       "75th   1.600849e+09  "
      ]
     },
     "execution_count": 87,
     "metadata": {},
     "output_type": "execute_result"
    }
   ],
   "source": [
    "#calc for summary stats for df\n",
    "sum_df = cities_df[['Latitude', 'Longitude', 'Max Temp', 'Humidity', \n",
    "                    'Cloudiness','Wind Speed','Date']].agg(['mean','std','max','min','count'])\n",
    "\n",
    "#calc for quartiles\n",
    "qrlt_df = cities_df[['Latitude', 'Longitude', 'Max Temp', 'Humidity', \n",
    "                     'Cloudiness','Wind Speed','Date']].quantile([.25, .5, .75])\n",
    "\n",
    "#inserting rows for quartiles\n",
    "sum_df.loc['25th'] = qrlt_df.loc[.25]\n",
    "sum_df.loc['50th'] = qrlt_df.loc[.5]\n",
    "sum_df.loc['75th'] = qrlt_df.loc[.75]\n",
    "\n",
    "#calling df\n",
    "sum_df"
   ]
  },
  {
   "cell_type": "markdown",
   "metadata": {},
   "source": [
    "## Inspect the data and remove the cities where the humidity > 100%.\n",
    "----\n",
    "Skip this step if there are no cities that have humidity > 100%. "
   ]
  },
  {
   "cell_type": "code",
   "execution_count": 89,
   "metadata": {},
   "outputs": [
    {
     "data": {
      "text/html": [
       "<div>\n",
       "<style scoped>\n",
       "    .dataframe tbody tr th:only-of-type {\n",
       "        vertical-align: middle;\n",
       "    }\n",
       "\n",
       "    .dataframe tbody tr th {\n",
       "        vertical-align: top;\n",
       "    }\n",
       "\n",
       "    .dataframe thead th {\n",
       "        text-align: right;\n",
       "    }\n",
       "</style>\n",
       "<table border=\"1\" class=\"dataframe\">\n",
       "  <thead>\n",
       "    <tr style=\"text-align: right;\">\n",
       "      <th></th>\n",
       "      <th>City</th>\n",
       "      <th>Cloudiness</th>\n",
       "      <th>Country</th>\n",
       "      <th>Date</th>\n",
       "      <th>Humidity</th>\n",
       "      <th>Latitude</th>\n",
       "      <th>Longitude</th>\n",
       "      <th>Max Temp</th>\n",
       "      <th>Wind Speed</th>\n",
       "    </tr>\n",
       "  </thead>\n",
       "  <tbody>\n",
       "    <tr>\n",
       "      <th>73</th>\n",
       "      <td>semme</td>\n",
       "      <td>90</td>\n",
       "      <td>FR</td>\n",
       "      <td>1600849307</td>\n",
       "      <td>100</td>\n",
       "      <td>46.20</td>\n",
       "      <td>1.50</td>\n",
       "      <td>61.00</td>\n",
       "      <td>8.05</td>\n",
       "    </tr>\n",
       "    <tr>\n",
       "      <th>115</th>\n",
       "      <td>polson</td>\n",
       "      <td>39</td>\n",
       "      <td>US</td>\n",
       "      <td>1600849314</td>\n",
       "      <td>100</td>\n",
       "      <td>47.69</td>\n",
       "      <td>-114.16</td>\n",
       "      <td>46.00</td>\n",
       "      <td>1.99</td>\n",
       "    </tr>\n",
       "    <tr>\n",
       "      <th>154</th>\n",
       "      <td>torbay</td>\n",
       "      <td>90</td>\n",
       "      <td>CA</td>\n",
       "      <td>1600849321</td>\n",
       "      <td>100</td>\n",
       "      <td>47.67</td>\n",
       "      <td>-52.73</td>\n",
       "      <td>61.00</td>\n",
       "      <td>24.16</td>\n",
       "    </tr>\n",
       "    <tr>\n",
       "      <th>258</th>\n",
       "      <td>lasa</td>\n",
       "      <td>75</td>\n",
       "      <td>IT</td>\n",
       "      <td>1600849338</td>\n",
       "      <td>100</td>\n",
       "      <td>46.62</td>\n",
       "      <td>10.70</td>\n",
       "      <td>57.99</td>\n",
       "      <td>1.23</td>\n",
       "    </tr>\n",
       "    <tr>\n",
       "      <th>278</th>\n",
       "      <td>madison</td>\n",
       "      <td>90</td>\n",
       "      <td>US</td>\n",
       "      <td>1600849128</td>\n",
       "      <td>100</td>\n",
       "      <td>34.73</td>\n",
       "      <td>-86.57</td>\n",
       "      <td>59.00</td>\n",
       "      <td>3.36</td>\n",
       "    </tr>\n",
       "    <tr>\n",
       "      <th>279</th>\n",
       "      <td>shelburne</td>\n",
       "      <td>1</td>\n",
       "      <td>CA</td>\n",
       "      <td>1600849341</td>\n",
       "      <td>100</td>\n",
       "      <td>44.08</td>\n",
       "      <td>-80.20</td>\n",
       "      <td>53.01</td>\n",
       "      <td>9.10</td>\n",
       "    </tr>\n",
       "    <tr>\n",
       "      <th>280</th>\n",
       "      <td>fortuna</td>\n",
       "      <td>1</td>\n",
       "      <td>US</td>\n",
       "      <td>1600849089</td>\n",
       "      <td>100</td>\n",
       "      <td>40.60</td>\n",
       "      <td>-124.16</td>\n",
       "      <td>55.00</td>\n",
       "      <td>6.93</td>\n",
       "    </tr>\n",
       "    <tr>\n",
       "      <th>320</th>\n",
       "      <td>alofi</td>\n",
       "      <td>100</td>\n",
       "      <td>NU</td>\n",
       "      <td>1600849347</td>\n",
       "      <td>100</td>\n",
       "      <td>-19.06</td>\n",
       "      <td>-169.92</td>\n",
       "      <td>68.00</td>\n",
       "      <td>3.36</td>\n",
       "    </tr>\n",
       "    <tr>\n",
       "      <th>332</th>\n",
       "      <td>lively</td>\n",
       "      <td>20</td>\n",
       "      <td>CA</td>\n",
       "      <td>1600849350</td>\n",
       "      <td>100</td>\n",
       "      <td>46.43</td>\n",
       "      <td>-81.15</td>\n",
       "      <td>51.01</td>\n",
       "      <td>5.82</td>\n",
       "    </tr>\n",
       "    <tr>\n",
       "      <th>345</th>\n",
       "      <td>escanaba</td>\n",
       "      <td>1</td>\n",
       "      <td>US</td>\n",
       "      <td>1600849351</td>\n",
       "      <td>100</td>\n",
       "      <td>45.75</td>\n",
       "      <td>-87.06</td>\n",
       "      <td>48.20</td>\n",
       "      <td>2.21</td>\n",
       "    </tr>\n",
       "    <tr>\n",
       "      <th>368</th>\n",
       "      <td>la ronge</td>\n",
       "      <td>5</td>\n",
       "      <td>CA</td>\n",
       "      <td>1600849355</td>\n",
       "      <td>100</td>\n",
       "      <td>55.10</td>\n",
       "      <td>-105.28</td>\n",
       "      <td>35.60</td>\n",
       "      <td>2.24</td>\n",
       "    </tr>\n",
       "    <tr>\n",
       "      <th>385</th>\n",
       "      <td>luba</td>\n",
       "      <td>75</td>\n",
       "      <td>GQ</td>\n",
       "      <td>1600849357</td>\n",
       "      <td>100</td>\n",
       "      <td>3.46</td>\n",
       "      <td>8.55</td>\n",
       "      <td>75.20</td>\n",
       "      <td>5.82</td>\n",
       "    </tr>\n",
       "    <tr>\n",
       "      <th>411</th>\n",
       "      <td>aklavik</td>\n",
       "      <td>90</td>\n",
       "      <td>CA</td>\n",
       "      <td>1600849361</td>\n",
       "      <td>100</td>\n",
       "      <td>68.22</td>\n",
       "      <td>-135.01</td>\n",
       "      <td>35.60</td>\n",
       "      <td>6.93</td>\n",
       "    </tr>\n",
       "    <tr>\n",
       "      <th>424</th>\n",
       "      <td>snyder</td>\n",
       "      <td>90</td>\n",
       "      <td>US</td>\n",
       "      <td>1600849363</td>\n",
       "      <td>100</td>\n",
       "      <td>32.72</td>\n",
       "      <td>-100.92</td>\n",
       "      <td>62.60</td>\n",
       "      <td>1.72</td>\n",
       "    </tr>\n",
       "    <tr>\n",
       "      <th>439</th>\n",
       "      <td>manicore</td>\n",
       "      <td>100</td>\n",
       "      <td>BR</td>\n",
       "      <td>1600849365</td>\n",
       "      <td>100</td>\n",
       "      <td>-5.81</td>\n",
       "      <td>-61.30</td>\n",
       "      <td>73.40</td>\n",
       "      <td>2.24</td>\n",
       "    </tr>\n",
       "    <tr>\n",
       "      <th>461</th>\n",
       "      <td>bereda</td>\n",
       "      <td>100</td>\n",
       "      <td>ES</td>\n",
       "      <td>1600849368</td>\n",
       "      <td>100</td>\n",
       "      <td>43.27</td>\n",
       "      <td>-7.54</td>\n",
       "      <td>62.01</td>\n",
       "      <td>8.99</td>\n",
       "    </tr>\n",
       "    <tr>\n",
       "      <th>470</th>\n",
       "      <td>thunder bay</td>\n",
       "      <td>5</td>\n",
       "      <td>CA</td>\n",
       "      <td>1600849276</td>\n",
       "      <td>100</td>\n",
       "      <td>48.40</td>\n",
       "      <td>-89.32</td>\n",
       "      <td>48.99</td>\n",
       "      <td>3.36</td>\n",
       "    </tr>\n",
       "    <tr>\n",
       "      <th>492</th>\n",
       "      <td>havre-saint-pierre</td>\n",
       "      <td>90</td>\n",
       "      <td>CA</td>\n",
       "      <td>1600849372</td>\n",
       "      <td>100</td>\n",
       "      <td>50.23</td>\n",
       "      <td>-63.60</td>\n",
       "      <td>46.40</td>\n",
       "      <td>8.05</td>\n",
       "    </tr>\n",
       "  </tbody>\n",
       "</table>\n",
       "</div>"
      ],
      "text/plain": [
       "                   City  Cloudiness Country        Date  Humidity  Latitude  \\\n",
       "73                semme          90      FR  1600849307       100     46.20   \n",
       "115              polson          39      US  1600849314       100     47.69   \n",
       "154              torbay          90      CA  1600849321       100     47.67   \n",
       "258                lasa          75      IT  1600849338       100     46.62   \n",
       "278             madison          90      US  1600849128       100     34.73   \n",
       "279           shelburne           1      CA  1600849341       100     44.08   \n",
       "280             fortuna           1      US  1600849089       100     40.60   \n",
       "320               alofi         100      NU  1600849347       100    -19.06   \n",
       "332              lively          20      CA  1600849350       100     46.43   \n",
       "345            escanaba           1      US  1600849351       100     45.75   \n",
       "368            la ronge           5      CA  1600849355       100     55.10   \n",
       "385                luba          75      GQ  1600849357       100      3.46   \n",
       "411             aklavik          90      CA  1600849361       100     68.22   \n",
       "424              snyder          90      US  1600849363       100     32.72   \n",
       "439            manicore         100      BR  1600849365       100     -5.81   \n",
       "461              bereda         100      ES  1600849368       100     43.27   \n",
       "470         thunder bay           5      CA  1600849276       100     48.40   \n",
       "492  havre-saint-pierre          90      CA  1600849372       100     50.23   \n",
       "\n",
       "     Longitude  Max Temp  Wind Speed  \n",
       "73        1.50     61.00        8.05  \n",
       "115    -114.16     46.00        1.99  \n",
       "154     -52.73     61.00       24.16  \n",
       "258      10.70     57.99        1.23  \n",
       "278     -86.57     59.00        3.36  \n",
       "279     -80.20     53.01        9.10  \n",
       "280    -124.16     55.00        6.93  \n",
       "320    -169.92     68.00        3.36  \n",
       "332     -81.15     51.01        5.82  \n",
       "345     -87.06     48.20        2.21  \n",
       "368    -105.28     35.60        2.24  \n",
       "385       8.55     75.20        5.82  \n",
       "411    -135.01     35.60        6.93  \n",
       "424    -100.92     62.60        1.72  \n",
       "439     -61.30     73.40        2.24  \n",
       "461      -7.54     62.01        8.99  \n",
       "470     -89.32     48.99        3.36  \n",
       "492     -63.60     46.40        8.05  "
      ]
     },
     "execution_count": 89,
     "metadata": {},
     "output_type": "execute_result"
    }
   ],
   "source": [
    "#there are no cities in my data set with a humidity\n",
    "#above 100 but the below have a humidity of excatly 100\n",
    "# going to skip steps involing\n",
    "cities_df[cities_df['Humidity'] >= 100]\n"
   ]
  },
  {
   "cell_type": "code",
   "execution_count": 17,
   "metadata": {},
   "outputs": [
    {
     "data": {
      "text/plain": [
       "Int64Index([], dtype='int64')"
      ]
     },
     "execution_count": 17,
     "metadata": {},
     "output_type": "execute_result"
    }
   ],
   "source": [
    "#  Get the indices of cities that have humidity over 100%.\n",
    "#no data to show as my data set does not meet this criteria no action needed"
   ]
  },
  {
   "cell_type": "code",
   "execution_count": 58,
   "metadata": {},
   "outputs": [],
   "source": [
    "# Make a new DataFrame equal to the city data to drop all humidity outliers by index.\n",
    "# Passing \"inplace=False\" will make a copy of the city_data DataFrame, which we call \"clean_city_data\".\n",
    "#no data to show as my data set does not meet this criteria no action needed"
   ]
  },
  {
   "cell_type": "code",
   "execution_count": null,
   "metadata": {},
   "outputs": [],
   "source": [
    "\n"
   ]
  },
  {
   "cell_type": "markdown",
   "metadata": {},
   "source": [
    "## Plotting the Data\n",
    "* Use proper labeling of the plots using plot titles (including date of analysis) and axes labels.\n",
    "* Save the plotted figures as .pngs."
   ]
  },
  {
   "cell_type": "markdown",
   "metadata": {},
   "source": [
    "## Latitude vs. Temperature Plot"
   ]
  },
  {
   "cell_type": "code",
   "execution_count": 96,
   "metadata": {
    "scrolled": false
   },
   "outputs": [
    {
     "data": {
      "image/png": "[encoded data removed]",
      "text/plain": [
       "<Figure size 432x288 with 1 Axes>"
      ]
     },
     "metadata": {
      "needs_background": "light"
     },
     "output_type": "display_data"
    }
   ],
   "source": [
    "plt.scatter(cities_df[\"Latitude\"],cities_df[\"Max Temp\"],edgecolors=\"black\",\n",
    "            marker='o',color=\"blue\",alpha=.7)\n",
    "plt.title(\"City Latitude vs. Max Temperature (09/20/20)\")\n",
    "plt.xlabel(\"Latitude\")\n",
    "plt.ylabel(\"Max Temperature\")\n",
    "plt.grid (b=True,which=\"major\",axis=\"both\",linestyle=\"-\",color=\"lightgrey\")\n",
    "plt.savefig(\"output_data/Lat_vs_Max_Temp.png\")"
   ]
  },
  {
   "cell_type": "markdown",
   "metadata": {},
   "source": [
    "## Latitude vs. Humidity Plot"
   ]
  },
  {
   "cell_type": "code",
   "execution_count": 97,
   "metadata": {
    "scrolled": true
   },
   "outputs": [
    {
     "data": {
      "image/png": "[encoded data removed]",
      "text/plain": [
       "<Figure size 432x288 with 1 Axes>"
      ]
     },
     "metadata": {
      "needs_background": "light"
     },
     "output_type": "display_data"
    }
   ],
   "source": [
    "plt.scatter(cities_df[\"Latitude\"],cities_df[\"Humidity\"],edgecolors=\"black\",\n",
    "            marker='o', color=\"blue\",alpha=.7)\n",
    "plt.title(\"City Latitude vs. Humidity (09/20/20)\")\n",
    "plt.xlabel(\"Latitude\")\n",
    "plt.ylabel(\"Humidity\")\n",
    "plt.grid (b=True,which=\"major\",axis=\"both\",linestyle=\"-\",color=\"lightgrey\")\n",
    "plt.savefig(\"output_data/Lat_vs_Humidity.png\")"
   ]
  },
  {
   "cell_type": "markdown",
   "metadata": {},
   "source": [
    "## Latitude vs. Cloudiness Plot"
   ]
  },
  {
   "cell_type": "code",
   "execution_count": 98,
   "metadata": {},
   "outputs": [
    {
     "data": {
      "image/png": "[encoded data removed]",
      "text/plain": [
       "<Figure size 432x288 with 1 Axes>"
      ]
     },
     "metadata": {
      "needs_background": "light"
     },
     "output_type": "display_data"
    }
   ],
   "source": [
    "plt.scatter(cities_df[\"Latitude\"],cities_df[\"Cloudiness\"],edgecolors=\"black\",\n",
    "            marker='o', color=\"blue\",alpha=.7)\n",
    "plt.title(\"City Latitude vs. Cloudiness (09/20/20)\")\n",
    "plt.xlabel(\"Latitude\")\n",
    "plt.ylabel(\"Cloudiness\")\n",
    "plt.grid (b=True,which=\"major\",axis=\"both\",linestyle=\"-\",color=\"lightgrey\")\n",
    "plt.savefig(\"output_data/Lat_vs_Cloudiness.png\")"
   ]
  },
  {
   "cell_type": "markdown",
   "metadata": {},
   "source": [
    "## Latitude vs. Wind Speed Plot"
   ]
  },
  {
   "cell_type": "code",
   "execution_count": 99,
   "metadata": {},
   "outputs": [
    {
     "data": {
      "image/png": "[encoded data removed]",
      "text/plain": [
       "<Figure size 432x288 with 1 Axes>"
      ]
     },
     "metadata": {
      "needs_background": "light"
     },
     "output_type": "display_data"
    }
   ],
   "source": [
    "plt.scatter(cities_df[\"Latitude\"],cities_df[\"Wind Speed\"],edgecolors=\"black\",\n",
    "            marker='o', color=\"blue\",alpha=.7)\n",
    "plt.title(\"City Latitude vs. Wind Speed (09/20/20)\")\n",
    "plt.xlabel(\"Latitude\")\n",
    "plt.ylabel(\"Wind Speed\")\n",
    "plt.grid (b=True,which=\"major\",axis=\"both\",linestyle=\"-\",color=\"lightgrey\")\n",
    "plt.savefig(\"output_data/Lat_vs_Wind_Speed.png\")"
   ]
  },
  {
   "cell_type": "markdown",
   "metadata": {},
   "source": [
    "## Linear Regression"
   ]
  },
  {
   "cell_type": "code",
   "execution_count": 24,
   "metadata": {},
   "outputs": [],
   "source": []
  },
  {
   "cell_type": "markdown",
   "metadata": {},
   "source": [
    "####  Northern Hemisphere - Max Temp vs. Latitude Linear Regression"
   ]
  },
  {
   "cell_type": "code",
   "execution_count": 100,
   "metadata": {},
   "outputs": [
    {
     "ename": "TypeError",
     "evalue": "unhashable type: 'numpy.ndarray'",
     "output_type": "error",
     "traceback": [
      "\u001b[1;31m---------------------------------------------------------------------------\u001b[0m",
      "\u001b[1;31mTypeError\u001b[0m                                 Traceback (most recent call last)",
      "\u001b[1;32m<ipython-input-100-92195d117d8d>\u001b[0m in \u001b[0;36m<module>\u001b[1;34m\u001b[0m\n\u001b[0;32m      2\u001b[0m \u001b[1;33m\u001b[0m\u001b[0m\n\u001b[0;32m      3\u001b[0m \u001b[1;33m\u001b[0m\u001b[0m\n\u001b[1;32m----> 4\u001b[1;33m plt.scatter(cities_df[cities_df['Latitude'] > 0],\n\u001b[0m\u001b[0;32m      5\u001b[0m             \u001b[0mcities_df\u001b[0m\u001b[1;33m[\u001b[0m\u001b[1;34m\"Max Temp\"\u001b[0m\u001b[1;33m]\u001b[0m\u001b[1;33m,\u001b[0m\u001b[0medgecolors\u001b[0m\u001b[1;33m=\u001b[0m\u001b[1;34m\"black\"\u001b[0m\u001b[1;33m,\u001b[0m\u001b[1;33m\u001b[0m\u001b[1;33m\u001b[0m\u001b[0m\n\u001b[0;32m      6\u001b[0m             marker='o',color=\"blue\",alpha=.7)\n",
      "\u001b[1;32m~\\miniconda3\\envs\\pythondata\\lib\\site-packages\\matplotlib\\pyplot.py\u001b[0m in \u001b[0;36mscatter\u001b[1;34m(x, y, s, c, marker, cmap, norm, vmin, vmax, alpha, linewidths, verts, edgecolors, plotnonfinite, data, **kwargs)\u001b[0m\n\u001b[0;32m   2872\u001b[0m         \u001b[0mverts\u001b[0m\u001b[1;33m=\u001b[0m\u001b[0mcbook\u001b[0m\u001b[1;33m.\u001b[0m\u001b[0mdeprecation\u001b[0m\u001b[1;33m.\u001b[0m\u001b[0m_deprecated_parameter\u001b[0m\u001b[1;33m,\u001b[0m\u001b[1;33m\u001b[0m\u001b[1;33m\u001b[0m\u001b[0m\n\u001b[0;32m   2873\u001b[0m         edgecolors=None, *, plotnonfinite=False, data=None, **kwargs):\n\u001b[1;32m-> 2874\u001b[1;33m     __ret = gca().scatter(\n\u001b[0m\u001b[0;32m   2875\u001b[0m         \u001b[0mx\u001b[0m\u001b[1;33m,\u001b[0m \u001b[0my\u001b[0m\u001b[1;33m,\u001b[0m \u001b[0ms\u001b[0m\u001b[1;33m=\u001b[0m\u001b[0ms\u001b[0m\u001b[1;33m,\u001b[0m \u001b[0mc\u001b[0m\u001b[1;33m=\u001b[0m\u001b[0mc\u001b[0m\u001b[1;33m,\u001b[0m \u001b[0mmarker\u001b[0m\u001b[1;33m=\u001b[0m\u001b[0mmarker\u001b[0m\u001b[1;33m,\u001b[0m \u001b[0mcmap\u001b[0m\u001b[1;33m=\u001b[0m\u001b[0mcmap\u001b[0m\u001b[1;33m,\u001b[0m \u001b[0mnorm\u001b[0m\u001b[1;33m=\u001b[0m\u001b[0mnorm\u001b[0m\u001b[1;33m,\u001b[0m\u001b[1;33m\u001b[0m\u001b[1;33m\u001b[0m\u001b[0m\n\u001b[0;32m   2876\u001b[0m         \u001b[0mvmin\u001b[0m\u001b[1;33m=\u001b[0m\u001b[0mvmin\u001b[0m\u001b[1;33m,\u001b[0m \u001b[0mvmax\u001b[0m\u001b[1;33m=\u001b[0m\u001b[0mvmax\u001b[0m\u001b[1;33m,\u001b[0m \u001b[0malpha\u001b[0m\u001b[1;33m=\u001b[0m\u001b[0malpha\u001b[0m\u001b[1;33m,\u001b[0m \u001b[0mlinewidths\u001b[0m\u001b[1;33m=\u001b[0m\u001b[0mlinewidths\u001b[0m\u001b[1;33m,\u001b[0m\u001b[1;33m\u001b[0m\u001b[1;33m\u001b[0m\u001b[0m\n",
      "\u001b[1;32m~\\miniconda3\\envs\\pythondata\\lib\\site-packages\\matplotlib\\__init__.py\u001b[0m in \u001b[0;36minner\u001b[1;34m(ax, data, *args, **kwargs)\u001b[0m\n\u001b[0;32m   1436\u001b[0m     \u001b[1;32mdef\u001b[0m \u001b[0minner\u001b[0m\u001b[1;33m(\u001b[0m\u001b[0max\u001b[0m\u001b[1;33m,\u001b[0m \u001b[1;33m*\u001b[0m\u001b[0margs\u001b[0m\u001b[1;33m,\u001b[0m \u001b[0mdata\u001b[0m\u001b[1;33m=\u001b[0m\u001b[1;32mNone\u001b[0m\u001b[1;33m,\u001b[0m \u001b[1;33m**\u001b[0m\u001b[0mkwargs\u001b[0m\u001b[1;33m)\u001b[0m\u001b[1;33m:\u001b[0m\u001b[1;33m\u001b[0m\u001b[1;33m\u001b[0m\u001b[0m\n\u001b[0;32m   1437\u001b[0m         \u001b[1;32mif\u001b[0m \u001b[0mdata\u001b[0m \u001b[1;32mis\u001b[0m \u001b[1;32mNone\u001b[0m\u001b[1;33m:\u001b[0m\u001b[1;33m\u001b[0m\u001b[1;33m\u001b[0m\u001b[0m\n\u001b[1;32m-> 1438\u001b[1;33m             \u001b[1;32mreturn\u001b[0m \u001b[0mfunc\u001b[0m\u001b[1;33m(\u001b[0m\u001b[0max\u001b[0m\u001b[1;33m,\u001b[0m \u001b[1;33m*\u001b[0m\u001b[0mmap\u001b[0m\u001b[1;33m(\u001b[0m\u001b[0msanitize_sequence\u001b[0m\u001b[1;33m,\u001b[0m \u001b[0margs\u001b[0m\u001b[1;33m)\u001b[0m\u001b[1;33m,\u001b[0m \u001b[1;33m**\u001b[0m\u001b[0mkwargs\u001b[0m\u001b[1;33m)\u001b[0m\u001b[1;33m\u001b[0m\u001b[1;33m\u001b[0m\u001b[0m\n\u001b[0m\u001b[0;32m   1439\u001b[0m \u001b[1;33m\u001b[0m\u001b[0m\n\u001b[0;32m   1440\u001b[0m         \u001b[0mbound\u001b[0m \u001b[1;33m=\u001b[0m \u001b[0mnew_sig\u001b[0m\u001b[1;33m.\u001b[0m\u001b[0mbind\u001b[0m\u001b[1;33m(\u001b[0m\u001b[0max\u001b[0m\u001b[1;33m,\u001b[0m \u001b[1;33m*\u001b[0m\u001b[0margs\u001b[0m\u001b[1;33m,\u001b[0m \u001b[1;33m**\u001b[0m\u001b[0mkwargs\u001b[0m\u001b[1;33m)\u001b[0m\u001b[1;33m\u001b[0m\u001b[1;33m\u001b[0m\u001b[0m\n",
      "\u001b[1;32m~\\miniconda3\\envs\\pythondata\\lib\\site-packages\\matplotlib\\cbook\\deprecation.py\u001b[0m in \u001b[0;36mwrapper\u001b[1;34m(*inner_args, **inner_kwargs)\u001b[0m\n\u001b[0;32m    409\u001b[0m                          \u001b[1;32melse\u001b[0m \u001b[0mdeprecation_addendum\u001b[0m\u001b[1;33m,\u001b[0m\u001b[1;33m\u001b[0m\u001b[1;33m\u001b[0m\u001b[0m\n\u001b[0;32m    410\u001b[0m                 **kwargs)\n\u001b[1;32m--> 411\u001b[1;33m         \u001b[1;32mreturn\u001b[0m \u001b[0mfunc\u001b[0m\u001b[1;33m(\u001b[0m\u001b[1;33m*\u001b[0m\u001b[0minner_args\u001b[0m\u001b[1;33m,\u001b[0m \u001b[1;33m**\u001b[0m\u001b[0minner_kwargs\u001b[0m\u001b[1;33m)\u001b[0m\u001b[1;33m\u001b[0m\u001b[1;33m\u001b[0m\u001b[0m\n\u001b[0m\u001b[0;32m    412\u001b[0m \u001b[1;33m\u001b[0m\u001b[0m\n\u001b[0;32m    413\u001b[0m     \u001b[1;32mreturn\u001b[0m \u001b[0mwrapper\u001b[0m\u001b[1;33m\u001b[0m\u001b[1;33m\u001b[0m\u001b[0m\n",
      "\u001b[1;32m~\\miniconda3\\envs\\pythondata\\lib\\site-packages\\matplotlib\\axes\\_axes.py\u001b[0m in \u001b[0;36mscatter\u001b[1;34m(self, x, y, s, c, marker, cmap, norm, vmin, vmax, alpha, linewidths, verts, edgecolors, plotnonfinite, **kwargs)\u001b[0m\n\u001b[0;32m   4430\u001b[0m         \u001b[1;31m# Process **kwargs to handle aliases, conflicts with explicit kwargs:\u001b[0m\u001b[1;33m\u001b[0m\u001b[1;33m\u001b[0m\u001b[1;33m\u001b[0m\u001b[0m\n\u001b[0;32m   4431\u001b[0m \u001b[1;33m\u001b[0m\u001b[0m\n\u001b[1;32m-> 4432\u001b[1;33m         \u001b[0mself\u001b[0m\u001b[1;33m.\u001b[0m\u001b[0m_process_unit_info\u001b[0m\u001b[1;33m(\u001b[0m\u001b[0mxdata\u001b[0m\u001b[1;33m=\u001b[0m\u001b[0mx\u001b[0m\u001b[1;33m,\u001b[0m \u001b[0mydata\u001b[0m\u001b[1;33m=\u001b[0m\u001b[0my\u001b[0m\u001b[1;33m,\u001b[0m \u001b[0mkwargs\u001b[0m\u001b[1;33m=\u001b[0m\u001b[0mkwargs\u001b[0m\u001b[1;33m)\u001b[0m\u001b[1;33m\u001b[0m\u001b[1;33m\u001b[0m\u001b[0m\n\u001b[0m\u001b[0;32m   4433\u001b[0m         \u001b[0mx\u001b[0m \u001b[1;33m=\u001b[0m \u001b[0mself\u001b[0m\u001b[1;33m.\u001b[0m\u001b[0mconvert_xunits\u001b[0m\u001b[1;33m(\u001b[0m\u001b[0mx\u001b[0m\u001b[1;33m)\u001b[0m\u001b[1;33m\u001b[0m\u001b[1;33m\u001b[0m\u001b[0m\n\u001b[0;32m   4434\u001b[0m         \u001b[0my\u001b[0m \u001b[1;33m=\u001b[0m \u001b[0mself\u001b[0m\u001b[1;33m.\u001b[0m\u001b[0mconvert_yunits\u001b[0m\u001b[1;33m(\u001b[0m\u001b[0my\u001b[0m\u001b[1;33m)\u001b[0m\u001b[1;33m\u001b[0m\u001b[1;33m\u001b[0m\u001b[0m\n",
      "\u001b[1;32m~\\miniconda3\\envs\\pythondata\\lib\\site-packages\\matplotlib\\axes\\_base.py\u001b[0m in \u001b[0;36m_process_unit_info\u001b[1;34m(self, xdata, ydata, kwargs)\u001b[0m\n\u001b[0;32m   2192\u001b[0m             \u001b[1;32mreturn\u001b[0m \u001b[0mkwargs\u001b[0m\u001b[1;33m\u001b[0m\u001b[1;33m\u001b[0m\u001b[0m\n\u001b[0;32m   2193\u001b[0m \u001b[1;33m\u001b[0m\u001b[0m\n\u001b[1;32m-> 2194\u001b[1;33m         \u001b[0mkwargs\u001b[0m \u001b[1;33m=\u001b[0m \u001b[0m_process_single_axis\u001b[0m\u001b[1;33m(\u001b[0m\u001b[0mxdata\u001b[0m\u001b[1;33m,\u001b[0m \u001b[0mself\u001b[0m\u001b[1;33m.\u001b[0m\u001b[0mxaxis\u001b[0m\u001b[1;33m,\u001b[0m \u001b[1;34m'xunits'\u001b[0m\u001b[1;33m,\u001b[0m \u001b[0mkwargs\u001b[0m\u001b[1;33m)\u001b[0m\u001b[1;33m\u001b[0m\u001b[1;33m\u001b[0m\u001b[0m\n\u001b[0m\u001b[0;32m   2195\u001b[0m         \u001b[0mkwargs\u001b[0m \u001b[1;33m=\u001b[0m \u001b[0m_process_single_axis\u001b[0m\u001b[1;33m(\u001b[0m\u001b[0mydata\u001b[0m\u001b[1;33m,\u001b[0m \u001b[0mself\u001b[0m\u001b[1;33m.\u001b[0m\u001b[0myaxis\u001b[0m\u001b[1;33m,\u001b[0m \u001b[1;34m'yunits'\u001b[0m\u001b[1;33m,\u001b[0m \u001b[0mkwargs\u001b[0m\u001b[1;33m)\u001b[0m\u001b[1;33m\u001b[0m\u001b[1;33m\u001b[0m\u001b[0m\n\u001b[0;32m   2196\u001b[0m         \u001b[1;32mreturn\u001b[0m \u001b[0mkwargs\u001b[0m\u001b[1;33m\u001b[0m\u001b[1;33m\u001b[0m\u001b[0m\n",
      "\u001b[1;32m~\\miniconda3\\envs\\pythondata\\lib\\site-packages\\matplotlib\\axes\\_base.py\u001b[0m in \u001b[0;36m_process_single_axis\u001b[1;34m(data, axis, unit_name, kwargs)\u001b[0m\n\u001b[0;32m   2175\u001b[0m                 \u001b[1;31m# We only need to update if there is nothing set yet.\u001b[0m\u001b[1;33m\u001b[0m\u001b[1;33m\u001b[0m\u001b[1;33m\u001b[0m\u001b[0m\n\u001b[0;32m   2176\u001b[0m                 \u001b[1;32mif\u001b[0m \u001b[1;32mnot\u001b[0m \u001b[0maxis\u001b[0m\u001b[1;33m.\u001b[0m\u001b[0mhave_units\u001b[0m\u001b[1;33m(\u001b[0m\u001b[1;33m)\u001b[0m\u001b[1;33m:\u001b[0m\u001b[1;33m\u001b[0m\u001b[1;33m\u001b[0m\u001b[0m\n\u001b[1;32m-> 2177\u001b[1;33m                     \u001b[0maxis\u001b[0m\u001b[1;33m.\u001b[0m\u001b[0mupdate_units\u001b[0m\u001b[1;33m(\u001b[0m\u001b[0mdata\u001b[0m\u001b[1;33m)\u001b[0m\u001b[1;33m\u001b[0m\u001b[1;33m\u001b[0m\u001b[0m\n\u001b[0m\u001b[0;32m   2178\u001b[0m \u001b[1;33m\u001b[0m\u001b[0m\n\u001b[0;32m   2179\u001b[0m             \u001b[1;31m# Check for units in the kwargs, and if present update axis\u001b[0m\u001b[1;33m\u001b[0m\u001b[1;33m\u001b[0m\u001b[1;33m\u001b[0m\u001b[0m\n",
      "\u001b[1;32m~\\miniconda3\\envs\\pythondata\\lib\\site-packages\\matplotlib\\axis.py\u001b[0m in \u001b[0;36mupdate_units\u001b[1;34m(self, data)\u001b[0m\n\u001b[0;32m   1461\u001b[0m         \u001b[0mneednew\u001b[0m \u001b[1;33m=\u001b[0m \u001b[0mself\u001b[0m\u001b[1;33m.\u001b[0m\u001b[0mconverter\u001b[0m \u001b[1;33m!=\u001b[0m \u001b[0mconverter\u001b[0m\u001b[1;33m\u001b[0m\u001b[1;33m\u001b[0m\u001b[0m\n\u001b[0;32m   1462\u001b[0m         \u001b[0mself\u001b[0m\u001b[1;33m.\u001b[0m\u001b[0mconverter\u001b[0m \u001b[1;33m=\u001b[0m \u001b[0mconverter\u001b[0m\u001b[1;33m\u001b[0m\u001b[1;33m\u001b[0m\u001b[0m\n\u001b[1;32m-> 1463\u001b[1;33m         \u001b[0mdefault\u001b[0m \u001b[1;33m=\u001b[0m \u001b[0mself\u001b[0m\u001b[1;33m.\u001b[0m\u001b[0mconverter\u001b[0m\u001b[1;33m.\u001b[0m\u001b[0mdefault_units\u001b[0m\u001b[1;33m(\u001b[0m\u001b[0mdata\u001b[0m\u001b[1;33m,\u001b[0m \u001b[0mself\u001b[0m\u001b[1;33m)\u001b[0m\u001b[1;33m\u001b[0m\u001b[1;33m\u001b[0m\u001b[0m\n\u001b[0m\u001b[0;32m   1464\u001b[0m         \u001b[1;32mif\u001b[0m \u001b[0mdefault\u001b[0m \u001b[1;32mis\u001b[0m \u001b[1;32mnot\u001b[0m \u001b[1;32mNone\u001b[0m \u001b[1;32mand\u001b[0m \u001b[0mself\u001b[0m\u001b[1;33m.\u001b[0m\u001b[0munits\u001b[0m \u001b[1;32mis\u001b[0m \u001b[1;32mNone\u001b[0m\u001b[1;33m:\u001b[0m\u001b[1;33m\u001b[0m\u001b[1;33m\u001b[0m\u001b[0m\n\u001b[0;32m   1465\u001b[0m             \u001b[0mself\u001b[0m\u001b[1;33m.\u001b[0m\u001b[0mset_units\u001b[0m\u001b[1;33m(\u001b[0m\u001b[0mdefault\u001b[0m\u001b[1;33m)\u001b[0m\u001b[1;33m\u001b[0m\u001b[1;33m\u001b[0m\u001b[0m\n",
      "\u001b[1;32m~\\miniconda3\\envs\\pythondata\\lib\\site-packages\\matplotlib\\category.py\u001b[0m in \u001b[0;36mdefault_units\u001b[1;34m(data, axis)\u001b[0m\n\u001b[0;32m    105\u001b[0m         \u001b[1;31m# the conversion call stack is default_units -> axis_info -> convert\u001b[0m\u001b[1;33m\u001b[0m\u001b[1;33m\u001b[0m\u001b[1;33m\u001b[0m\u001b[0m\n\u001b[0;32m    106\u001b[0m         \u001b[1;32mif\u001b[0m \u001b[0maxis\u001b[0m\u001b[1;33m.\u001b[0m\u001b[0munits\u001b[0m \u001b[1;32mis\u001b[0m \u001b[1;32mNone\u001b[0m\u001b[1;33m:\u001b[0m\u001b[1;33m\u001b[0m\u001b[1;33m\u001b[0m\u001b[0m\n\u001b[1;32m--> 107\u001b[1;33m             \u001b[0maxis\u001b[0m\u001b[1;33m.\u001b[0m\u001b[0mset_units\u001b[0m\u001b[1;33m(\u001b[0m\u001b[0mUnitData\u001b[0m\u001b[1;33m(\u001b[0m\u001b[0mdata\u001b[0m\u001b[1;33m)\u001b[0m\u001b[1;33m)\u001b[0m\u001b[1;33m\u001b[0m\u001b[1;33m\u001b[0m\u001b[0m\n\u001b[0m\u001b[0;32m    108\u001b[0m         \u001b[1;32melse\u001b[0m\u001b[1;33m:\u001b[0m\u001b[1;33m\u001b[0m\u001b[1;33m\u001b[0m\u001b[0m\n\u001b[0;32m    109\u001b[0m             \u001b[0maxis\u001b[0m\u001b[1;33m.\u001b[0m\u001b[0munits\u001b[0m\u001b[1;33m.\u001b[0m\u001b[0mupdate\u001b[0m\u001b[1;33m(\u001b[0m\u001b[0mdata\u001b[0m\u001b[1;33m)\u001b[0m\u001b[1;33m\u001b[0m\u001b[1;33m\u001b[0m\u001b[0m\n",
      "\u001b[1;32m~\\miniconda3\\envs\\pythondata\\lib\\site-packages\\matplotlib\\category.py\u001b[0m in \u001b[0;36m__init__\u001b[1;34m(self, data)\u001b[0m\n\u001b[0;32m    174\u001b[0m         \u001b[0mself\u001b[0m\u001b[1;33m.\u001b[0m\u001b[0m_counter\u001b[0m \u001b[1;33m=\u001b[0m \u001b[0mitertools\u001b[0m\u001b[1;33m.\u001b[0m\u001b[0mcount\u001b[0m\u001b[1;33m(\u001b[0m\u001b[1;33m)\u001b[0m\u001b[1;33m\u001b[0m\u001b[1;33m\u001b[0m\u001b[0m\n\u001b[0;32m    175\u001b[0m         \u001b[1;32mif\u001b[0m \u001b[0mdata\u001b[0m \u001b[1;32mis\u001b[0m \u001b[1;32mnot\u001b[0m \u001b[1;32mNone\u001b[0m\u001b[1;33m:\u001b[0m\u001b[1;33m\u001b[0m\u001b[1;33m\u001b[0m\u001b[0m\n\u001b[1;32m--> 176\u001b[1;33m             \u001b[0mself\u001b[0m\u001b[1;33m.\u001b[0m\u001b[0mupdate\u001b[0m\u001b[1;33m(\u001b[0m\u001b[0mdata\u001b[0m\u001b[1;33m)\u001b[0m\u001b[1;33m\u001b[0m\u001b[1;33m\u001b[0m\u001b[0m\n\u001b[0m\u001b[0;32m    177\u001b[0m \u001b[1;33m\u001b[0m\u001b[0m\n\u001b[0;32m    178\u001b[0m     \u001b[1;33m@\u001b[0m\u001b[0mstaticmethod\u001b[0m\u001b[1;33m\u001b[0m\u001b[1;33m\u001b[0m\u001b[0m\n",
      "\u001b[1;32m~\\miniconda3\\envs\\pythondata\\lib\\site-packages\\matplotlib\\category.py\u001b[0m in \u001b[0;36mupdate\u001b[1;34m(self, data)\u001b[0m\n\u001b[0;32m    207\u001b[0m         \u001b[1;31m# check if convertible to number:\u001b[0m\u001b[1;33m\u001b[0m\u001b[1;33m\u001b[0m\u001b[1;33m\u001b[0m\u001b[0m\n\u001b[0;32m    208\u001b[0m         \u001b[0mconvertible\u001b[0m \u001b[1;33m=\u001b[0m \u001b[1;32mTrue\u001b[0m\u001b[1;33m\u001b[0m\u001b[1;33m\u001b[0m\u001b[0m\n\u001b[1;32m--> 209\u001b[1;33m         \u001b[1;32mfor\u001b[0m \u001b[0mval\u001b[0m \u001b[1;32min\u001b[0m \u001b[0mOrderedDict\u001b[0m\u001b[1;33m.\u001b[0m\u001b[0mfromkeys\u001b[0m\u001b[1;33m(\u001b[0m\u001b[0mdata\u001b[0m\u001b[1;33m)\u001b[0m\u001b[1;33m:\u001b[0m\u001b[1;33m\u001b[0m\u001b[1;33m\u001b[0m\u001b[0m\n\u001b[0m\u001b[0;32m    210\u001b[0m             \u001b[1;31m# OrderedDict just iterates over unique values in data.\u001b[0m\u001b[1;33m\u001b[0m\u001b[1;33m\u001b[0m\u001b[1;33m\u001b[0m\u001b[0m\n\u001b[0;32m    211\u001b[0m             \u001b[0mcbook\u001b[0m\u001b[1;33m.\u001b[0m\u001b[0m_check_isinstance\u001b[0m\u001b[1;33m(\u001b[0m\u001b[1;33m(\u001b[0m\u001b[0mstr\u001b[0m\u001b[1;33m,\u001b[0m \u001b[0mbytes\u001b[0m\u001b[1;33m)\u001b[0m\u001b[1;33m,\u001b[0m \u001b[0mvalue\u001b[0m\u001b[1;33m=\u001b[0m\u001b[0mval\u001b[0m\u001b[1;33m)\u001b[0m\u001b[1;33m\u001b[0m\u001b[1;33m\u001b[0m\u001b[0m\n",
      "\u001b[1;31mTypeError\u001b[0m: unhashable type: 'numpy.ndarray'"
     ]
    },
    {
     "data": {
      "image/png": "[encoded data removed]",
      "text/plain": [
       "<Figure size 432x288 with 1 Axes>"
      ]
     },
     "metadata": {
      "needs_background": "light"
     },
     "output_type": "display_data"
    }
   ],
   "source": [
    " = cities_df[cities_df['Humidity'] >= 100]\n",
    "\n",
    "Calculating regression values\n",
    "(slope, intercept, rvalue, pvalue, stderr) = linregress(x,y)\n",
    "\n",
    "#Calc regression line to plot on chart\n",
    "regress_values = x * slope + intercept\n",
    "line_eq = f' y = {round(slope,2)} x = {round(intercept,2)}' \n",
    "\n",
    "plt.scatter(cities_df[cities_df['Latitude'] > 0],\n",
    "            cities_df[\"Max Temp\"],edgecolors=\"black\",\n",
    "            marker='o',color=\"blue\",alpha=.7)\n",
    "plt.title(\"City Latitude vs. Max Temperature (09/20/20)\")\n",
    "plt.xlabel(\"Latitude\")\n",
    "plt.ylabel(\"Max Temperature\")\n",
    "plt.grid (b=True,which=\"major\",axis=\"both\",linestyle=\"-\",color=\"lightgrey\")\n",
    "plt.savefig(\"output_data/Lat_vs_Max_Temp.png\")"
   ]
  },
  {
   "cell_type": "markdown",
   "metadata": {},
   "source": [
    "####  Southern Hemisphere - Max Temp vs. Latitude Linear Regression"
   ]
  },
  {
   "cell_type": "code",
   "execution_count": 26,
   "metadata": {},
   "outputs": [
    {
     "name": "stdout",
     "output_type": "stream",
     "text": [
      "The r-value is: 0.6082708688906918\n"
     ]
    },
    {
     "data": {
      "image/png": "[encoded data removed]",
      "text/plain": [
       "<Figure size 432x288 with 1 Axes>"
      ]
     },
     "metadata": {
      "needs_background": "light"
     },
     "output_type": "display_data"
    }
   ],
   "source": []
  },
  {
   "cell_type": "markdown",
   "metadata": {},
   "source": [
    "####  Northern Hemisphere - Humidity (%) vs. Latitude Linear Regression"
   ]
  },
  {
   "cell_type": "code",
   "execution_count": 27,
   "metadata": {},
   "outputs": [
    {
     "name": "stdout",
     "output_type": "stream",
     "text": [
      "The r-value is: 0.000543987878808455\n"
     ]
    },
    {
     "data": {
      "image/png": "[encoded data removed]",
      "text/plain": [
       "<Figure size 432x288 with 1 Axes>"
      ]
     },
     "metadata": {
      "needs_background": "light"
     },
     "output_type": "display_data"
    }
   ],
   "source": []
  },
  {
   "cell_type": "markdown",
   "metadata": {},
   "source": [
    "####  Southern Hemisphere - Humidity (%) vs. Latitude Linear Regression"
   ]
  },
  {
   "cell_type": "code",
   "execution_count": 28,
   "metadata": {},
   "outputs": [
    {
     "name": "stdout",
     "output_type": "stream",
     "text": [
      "The r-value is: 0.014985174297345524\n"
     ]
    },
    {
     "data": {
      "image/png": "[encoded data removed]",
      "text/plain": [
       "<Figure size 432x288 with 1 Axes>"
      ]
     },
     "metadata": {
      "needs_background": "light"
     },
     "output_type": "display_data"
    }
   ],
   "source": []
  },
  {
   "cell_type": "markdown",
   "metadata": {},
   "source": [
    "####  Northern Hemisphere - Cloudiness (%) vs. Latitude Linear Regression"
   ]
  },
  {
   "cell_type": "code",
   "execution_count": 29,
   "metadata": {},
   "outputs": [
    {
     "name": "stdout",
     "output_type": "stream",
     "text": [
      "The r-value is: 0.0020898727664228514\n"
     ]
    },
    {
     "data": {
      "image/png": "[encoded data removed]",
      "text/plain": [
       "<Figure size 432x288 with 1 Axes>"
      ]
     },
     "metadata": {
      "needs_background": "light"
     },
     "output_type": "display_data"
    }
   ],
   "source": []
  },
  {
   "cell_type": "markdown",
   "metadata": {},
   "source": [
    "####  Southern Hemisphere - Cloudiness (%) vs. Latitude Linear Regression"
   ]
  },
  {
   "cell_type": "code",
   "execution_count": 30,
   "metadata": {},
   "outputs": [
    {
     "name": "stdout",
     "output_type": "stream",
     "text": [
      "The r-value is: 0.0035263772085582894\n"
     ]
    },
    {
     "data": {
      "image/png": "[encoded data removed]",
      "text/plain": [
       "<Figure size 432x288 with 1 Axes>"
      ]
     },
     "metadata": {
      "needs_background": "light"
     },
     "output_type": "display_data"
    }
   ],
   "source": []
  },
  {
   "cell_type": "markdown",
   "metadata": {},
   "source": [
    "####  Northern Hemisphere - Wind Speed (mph) vs. Latitude Linear Regression"
   ]
  },
  {
   "cell_type": "code",
   "execution_count": 31,
   "metadata": {},
   "outputs": [
    {
     "name": "stdout",
     "output_type": "stream",
     "text": [
      "The r-value is: 0.04019723576144484\n"
     ]
    },
    {
     "data": {
      "image/png": "[encoded data removed]",
      "text/plain": [
       "<Figure size 432x288 with 1 Axes>"
      ]
     },
     "metadata": {
      "needs_background": "light"
     },
     "output_type": "display_data"
    }
   ],
   "source": []
  },
  {
   "cell_type": "markdown",
   "metadata": {},
   "source": [
    "####  Southern Hemisphere - Wind Speed (mph) vs. Latitude Linear Regression"
   ]
  },
  {
   "cell_type": "code",
   "execution_count": 32,
   "metadata": {},
   "outputs": [
    {
     "name": "stdout",
     "output_type": "stream",
     "text": [
      "The r-value is: 0.017128274759839232\n"
     ]
    },
    {
     "data": {
      "image/png": "[encoded data removed]",
      "text/plain": [
       "<Figure size 432x288 with 1 Axes>"
      ]
     },
     "metadata": {
      "needs_background": "light"
     },
     "output_type": "display_data"
    }
   ],
   "source": []
  },
  {
   "cell_type": "code",
   "execution_count": null,
   "metadata": {},
   "outputs": [],
   "source": []
  }
 ],
 "metadata": {
  "anaconda-cloud": {},
  "kernel_info": {
   "name": "python3"
  },
  "kernelspec": {
   "display_name": "Python 3",
   "language": "python",
   "name": "python3"
  },
  "language_info": {
   "codemirror_mode": {
    "name": "ipython",
    "version": 3
   },
   "file_extension": ".py",
   "mimetype": "text/x-python",
   "name": "python",
   "nbconvert_exporter": "python",
   "pygments_lexer": "ipython3",
   "version": "3.8.5"
  },
  "latex_envs": {
   "LaTeX_envs_menu_present": true,
   "autoclose": false,
   "autocomplete": true,
   "bibliofile": "biblio.bib",
   "cite_by": "apalike",
   "current_citInitial": 1,
   "eqLabelWithNumbers": true,
   "eqNumInitial": 1,
   "hotkeys": {
    "equation": "Ctrl-E",
    "itemize": "Ctrl-I"
   },
   "labels_anchors": false,
   "latex_user_defs": false,
   "report_style_numbering": false,
   "user_envs_cfg": false
  },
  "nteract": {
   "version": "0.12.3"
  }
 },
 "nbformat": 4,
 "nbformat_minor": 2
}
